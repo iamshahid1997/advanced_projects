{
 "cells": [
  {
   "cell_type": "markdown",
   "metadata": {
    "id": "q2wwS6xw6uRh"
   },
   "source": [
    "## Import Libraries"
   ]
  },
  {
   "cell_type": "code",
   "execution_count": 2,
   "metadata": {
    "executionInfo": {
     "elapsed": 2932,
     "status": "ok",
     "timestamp": 1608195205056,
     "user": {
      "displayName": "Shahid Ansari",
      "photoUrl": "https://lh3.googleusercontent.com/a-/AOh14GgNI1mPL87f4HLtXTQOdtG3HjBEWRPeVLzwEauZ_oU=s64",
      "userId": "04816463903886786764"
     },
     "user_tz": -330
    },
    "id": "6nltmOfK48xn"
   },
   "outputs": [],
   "source": [
    "import numpy as np\n",
    "import pandas as pd\n",
    "import matplotlib.pyplot as plt\n",
    "import random\n",
    "from fbprophet import Prophet"
   ]
  },
  {
   "cell_type": "code",
   "execution_count": 3,
   "metadata": {
    "executionInfo": {
     "elapsed": 4587,
     "status": "ok",
     "timestamp": 1608195210642,
     "user": {
      "displayName": "Shahid Ansari",
      "photoUrl": "https://lh3.googleusercontent.com/a-/AOh14GgNI1mPL87f4HLtXTQOdtG3HjBEWRPeVLzwEauZ_oU=s64",
      "userId": "04816463903886786764"
     },
     "user_tz": -330
    },
    "id": "CJwp242C5Z_b"
   },
   "outputs": [],
   "source": [
    "avocado_df = pd.read_csv('drive/MyDrive/Avacado Price Prediction/avocado.csv')"
   ]
  },
  {
   "cell_type": "code",
   "execution_count": 4,
   "metadata": {
    "colab": {
     "base_uri": "https://localhost:8080/",
     "height": 406
    },
    "executionInfo": {
     "elapsed": 1702,
     "status": "ok",
     "timestamp": 1608195258795,
     "user": {
      "displayName": "Shahid Ansari",
      "photoUrl": "https://lh3.googleusercontent.com/a-/AOh14GgNI1mPL87f4HLtXTQOdtG3HjBEWRPeVLzwEauZ_oU=s64",
      "userId": "04816463903886786764"
     },
     "user_tz": -330
    },
    "id": "-ks2P1ld5y4o",
    "outputId": "fd8a66c6-10c7-4249-c64e-8eff42f7a1d0"
   },
   "outputs": [
    {
     "data": {
      "text/html": [
       "<div>\n",
       "<style scoped>\n",
       "    .dataframe tbody tr th:only-of-type {\n",
       "        vertical-align: middle;\n",
       "    }\n",
       "\n",
       "    .dataframe tbody tr th {\n",
       "        vertical-align: top;\n",
       "    }\n",
       "\n",
       "    .dataframe thead th {\n",
       "        text-align: right;\n",
       "    }\n",
       "</style>\n",
       "<table border=\"1\" class=\"dataframe\">\n",
       "  <thead>\n",
       "    <tr style=\"text-align: right;\">\n",
       "      <th></th>\n",
       "      <th>Unnamed: 0</th>\n",
       "      <th>Date</th>\n",
       "      <th>AveragePrice</th>\n",
       "      <th>Total Volume</th>\n",
       "      <th>4046</th>\n",
       "      <th>4225</th>\n",
       "      <th>4770</th>\n",
       "      <th>Total Bags</th>\n",
       "      <th>Small Bags</th>\n",
       "      <th>Large Bags</th>\n",
       "      <th>XLarge Bags</th>\n",
       "      <th>type</th>\n",
       "      <th>year</th>\n",
       "      <th>region</th>\n",
       "    </tr>\n",
       "  </thead>\n",
       "  <tbody>\n",
       "    <tr>\n",
       "      <th>0</th>\n",
       "      <td>0</td>\n",
       "      <td>2015-12-27</td>\n",
       "      <td>1.33</td>\n",
       "      <td>64236.62</td>\n",
       "      <td>1036.74</td>\n",
       "      <td>54454.85</td>\n",
       "      <td>48.16</td>\n",
       "      <td>8696.87</td>\n",
       "      <td>8603.62</td>\n",
       "      <td>93.25</td>\n",
       "      <td>0.0</td>\n",
       "      <td>conventional</td>\n",
       "      <td>2015</td>\n",
       "      <td>Albany</td>\n",
       "    </tr>\n",
       "    <tr>\n",
       "      <th>1</th>\n",
       "      <td>1</td>\n",
       "      <td>2015-12-20</td>\n",
       "      <td>1.35</td>\n",
       "      <td>54876.98</td>\n",
       "      <td>674.28</td>\n",
       "      <td>44638.81</td>\n",
       "      <td>58.33</td>\n",
       "      <td>9505.56</td>\n",
       "      <td>9408.07</td>\n",
       "      <td>97.49</td>\n",
       "      <td>0.0</td>\n",
       "      <td>conventional</td>\n",
       "      <td>2015</td>\n",
       "      <td>Albany</td>\n",
       "    </tr>\n",
       "    <tr>\n",
       "      <th>2</th>\n",
       "      <td>2</td>\n",
       "      <td>2015-12-13</td>\n",
       "      <td>0.93</td>\n",
       "      <td>118220.22</td>\n",
       "      <td>794.70</td>\n",
       "      <td>109149.67</td>\n",
       "      <td>130.50</td>\n",
       "      <td>8145.35</td>\n",
       "      <td>8042.21</td>\n",
       "      <td>103.14</td>\n",
       "      <td>0.0</td>\n",
       "      <td>conventional</td>\n",
       "      <td>2015</td>\n",
       "      <td>Albany</td>\n",
       "    </tr>\n",
       "    <tr>\n",
       "      <th>3</th>\n",
       "      <td>3</td>\n",
       "      <td>2015-12-06</td>\n",
       "      <td>1.08</td>\n",
       "      <td>78992.15</td>\n",
       "      <td>1132.00</td>\n",
       "      <td>71976.41</td>\n",
       "      <td>72.58</td>\n",
       "      <td>5811.16</td>\n",
       "      <td>5677.40</td>\n",
       "      <td>133.76</td>\n",
       "      <td>0.0</td>\n",
       "      <td>conventional</td>\n",
       "      <td>2015</td>\n",
       "      <td>Albany</td>\n",
       "    </tr>\n",
       "    <tr>\n",
       "      <th>4</th>\n",
       "      <td>4</td>\n",
       "      <td>2015-11-29</td>\n",
       "      <td>1.28</td>\n",
       "      <td>51039.60</td>\n",
       "      <td>941.48</td>\n",
       "      <td>43838.39</td>\n",
       "      <td>75.78</td>\n",
       "      <td>6183.95</td>\n",
       "      <td>5986.26</td>\n",
       "      <td>197.69</td>\n",
       "      <td>0.0</td>\n",
       "      <td>conventional</td>\n",
       "      <td>2015</td>\n",
       "      <td>Albany</td>\n",
       "    </tr>\n",
       "    <tr>\n",
       "      <th>...</th>\n",
       "      <td>...</td>\n",
       "      <td>...</td>\n",
       "      <td>...</td>\n",
       "      <td>...</td>\n",
       "      <td>...</td>\n",
       "      <td>...</td>\n",
       "      <td>...</td>\n",
       "      <td>...</td>\n",
       "      <td>...</td>\n",
       "      <td>...</td>\n",
       "      <td>...</td>\n",
       "      <td>...</td>\n",
       "      <td>...</td>\n",
       "      <td>...</td>\n",
       "    </tr>\n",
       "    <tr>\n",
       "      <th>18244</th>\n",
       "      <td>7</td>\n",
       "      <td>2018-02-04</td>\n",
       "      <td>1.63</td>\n",
       "      <td>17074.83</td>\n",
       "      <td>2046.96</td>\n",
       "      <td>1529.20</td>\n",
       "      <td>0.00</td>\n",
       "      <td>13498.67</td>\n",
       "      <td>13066.82</td>\n",
       "      <td>431.85</td>\n",
       "      <td>0.0</td>\n",
       "      <td>organic</td>\n",
       "      <td>2018</td>\n",
       "      <td>WestTexNewMexico</td>\n",
       "    </tr>\n",
       "    <tr>\n",
       "      <th>18245</th>\n",
       "      <td>8</td>\n",
       "      <td>2018-01-28</td>\n",
       "      <td>1.71</td>\n",
       "      <td>13888.04</td>\n",
       "      <td>1191.70</td>\n",
       "      <td>3431.50</td>\n",
       "      <td>0.00</td>\n",
       "      <td>9264.84</td>\n",
       "      <td>8940.04</td>\n",
       "      <td>324.80</td>\n",
       "      <td>0.0</td>\n",
       "      <td>organic</td>\n",
       "      <td>2018</td>\n",
       "      <td>WestTexNewMexico</td>\n",
       "    </tr>\n",
       "    <tr>\n",
       "      <th>18246</th>\n",
       "      <td>9</td>\n",
       "      <td>2018-01-21</td>\n",
       "      <td>1.87</td>\n",
       "      <td>13766.76</td>\n",
       "      <td>1191.92</td>\n",
       "      <td>2452.79</td>\n",
       "      <td>727.94</td>\n",
       "      <td>9394.11</td>\n",
       "      <td>9351.80</td>\n",
       "      <td>42.31</td>\n",
       "      <td>0.0</td>\n",
       "      <td>organic</td>\n",
       "      <td>2018</td>\n",
       "      <td>WestTexNewMexico</td>\n",
       "    </tr>\n",
       "    <tr>\n",
       "      <th>18247</th>\n",
       "      <td>10</td>\n",
       "      <td>2018-01-14</td>\n",
       "      <td>1.93</td>\n",
       "      <td>16205.22</td>\n",
       "      <td>1527.63</td>\n",
       "      <td>2981.04</td>\n",
       "      <td>727.01</td>\n",
       "      <td>10969.54</td>\n",
       "      <td>10919.54</td>\n",
       "      <td>50.00</td>\n",
       "      <td>0.0</td>\n",
       "      <td>organic</td>\n",
       "      <td>2018</td>\n",
       "      <td>WestTexNewMexico</td>\n",
       "    </tr>\n",
       "    <tr>\n",
       "      <th>18248</th>\n",
       "      <td>11</td>\n",
       "      <td>2018-01-07</td>\n",
       "      <td>1.62</td>\n",
       "      <td>17489.58</td>\n",
       "      <td>2894.77</td>\n",
       "      <td>2356.13</td>\n",
       "      <td>224.53</td>\n",
       "      <td>12014.15</td>\n",
       "      <td>11988.14</td>\n",
       "      <td>26.01</td>\n",
       "      <td>0.0</td>\n",
       "      <td>organic</td>\n",
       "      <td>2018</td>\n",
       "      <td>WestTexNewMexico</td>\n",
       "    </tr>\n",
       "  </tbody>\n",
       "</table>\n",
       "<p>18249 rows × 14 columns</p>\n",
       "</div>"
      ],
      "text/plain": [
       "       Unnamed: 0        Date  ...  year            region\n",
       "0               0  2015-12-27  ...  2015            Albany\n",
       "1               1  2015-12-20  ...  2015            Albany\n",
       "2               2  2015-12-13  ...  2015            Albany\n",
       "3               3  2015-12-06  ...  2015            Albany\n",
       "4               4  2015-11-29  ...  2015            Albany\n",
       "...           ...         ...  ...   ...               ...\n",
       "18244           7  2018-02-04  ...  2018  WestTexNewMexico\n",
       "18245           8  2018-01-28  ...  2018  WestTexNewMexico\n",
       "18246           9  2018-01-21  ...  2018  WestTexNewMexico\n",
       "18247          10  2018-01-14  ...  2018  WestTexNewMexico\n",
       "18248          11  2018-01-07  ...  2018  WestTexNewMexico\n",
       "\n",
       "[18249 rows x 14 columns]"
      ]
     },
     "execution_count": 4,
     "metadata": {
      "tags": []
     },
     "output_type": "execute_result"
    }
   ],
   "source": [
    "avocado_df"
   ]
  },
  {
   "cell_type": "markdown",
   "metadata": {
    "id": "DEuidCta60m9"
   },
   "source": [
    "## Explore the dataset"
   ]
  },
  {
   "cell_type": "code",
   "execution_count": 5,
   "metadata": {
    "colab": {
     "base_uri": "https://localhost:8080/"
    },
    "executionInfo": {
     "elapsed": 1826,
     "status": "ok",
     "timestamp": 1608195501918,
     "user": {
      "displayName": "Shahid Ansari",
      "photoUrl": "https://lh3.googleusercontent.com/a-/AOh14GgNI1mPL87f4HLtXTQOdtG3HjBEWRPeVLzwEauZ_oU=s64",
      "userId": "04816463903886786764"
     },
     "user_tz": -330
    },
    "id": "7mUzrI4063cH",
    "outputId": "0addc3af-594e-4dfe-c1bc-45279c520416"
   },
   "outputs": [
    {
     "data": {
      "text/plain": [
       "Unnamed: 0      0\n",
       "Date            0\n",
       "AveragePrice    0\n",
       "Total Volume    0\n",
       "4046            0\n",
       "4225            0\n",
       "4770            0\n",
       "Total Bags      0\n",
       "Small Bags      0\n",
       "Large Bags      0\n",
       "XLarge Bags     0\n",
       "type            0\n",
       "year            0\n",
       "region          0\n",
       "dtype: int64"
      ]
     },
     "execution_count": 5,
     "metadata": {
      "tags": []
     },
     "output_type": "execute_result"
    }
   ],
   "source": [
    "avocado_df.isnull().sum()"
   ]
  },
  {
   "cell_type": "code",
   "execution_count": 6,
   "metadata": {
    "colab": {
     "base_uri": "https://localhost:8080/",
     "height": 406
    },
    "executionInfo": {
     "elapsed": 1776,
     "status": "ok",
     "timestamp": 1608195666275,
     "user": {
      "displayName": "Shahid Ansari",
      "photoUrl": "https://lh3.googleusercontent.com/a-/AOh14GgNI1mPL87f4HLtXTQOdtG3HjBEWRPeVLzwEauZ_oU=s64",
      "userId": "04816463903886786764"
     },
     "user_tz": -330
    },
    "id": "wv6Lbl9U6-YZ",
    "outputId": "74a4ac3b-058f-41cf-c39c-9c69a05c6ef2"
   },
   "outputs": [
    {
     "data": {
      "text/html": [
       "<div>\n",
       "<style scoped>\n",
       "    .dataframe tbody tr th:only-of-type {\n",
       "        vertical-align: middle;\n",
       "    }\n",
       "\n",
       "    .dataframe tbody tr th {\n",
       "        vertical-align: top;\n",
       "    }\n",
       "\n",
       "    .dataframe thead th {\n",
       "        text-align: right;\n",
       "    }\n",
       "</style>\n",
       "<table border=\"1\" class=\"dataframe\">\n",
       "  <thead>\n",
       "    <tr style=\"text-align: right;\">\n",
       "      <th></th>\n",
       "      <th>Unnamed: 0</th>\n",
       "      <th>Date</th>\n",
       "      <th>AveragePrice</th>\n",
       "      <th>Total Volume</th>\n",
       "      <th>4046</th>\n",
       "      <th>4225</th>\n",
       "      <th>4770</th>\n",
       "      <th>Total Bags</th>\n",
       "      <th>Small Bags</th>\n",
       "      <th>Large Bags</th>\n",
       "      <th>XLarge Bags</th>\n",
       "      <th>type</th>\n",
       "      <th>year</th>\n",
       "      <th>region</th>\n",
       "    </tr>\n",
       "  </thead>\n",
       "  <tbody>\n",
       "    <tr>\n",
       "      <th>11569</th>\n",
       "      <td>51</td>\n",
       "      <td>2015-01-04</td>\n",
       "      <td>1.75</td>\n",
       "      <td>27365.89</td>\n",
       "      <td>9307.34</td>\n",
       "      <td>3844.81</td>\n",
       "      <td>615.28</td>\n",
       "      <td>13598.46</td>\n",
       "      <td>13061.10</td>\n",
       "      <td>537.36</td>\n",
       "      <td>0.00</td>\n",
       "      <td>organic</td>\n",
       "      <td>2015</td>\n",
       "      <td>Southeast</td>\n",
       "    </tr>\n",
       "    <tr>\n",
       "      <th>9593</th>\n",
       "      <td>51</td>\n",
       "      <td>2015-01-04</td>\n",
       "      <td>1.49</td>\n",
       "      <td>17723.17</td>\n",
       "      <td>1189.35</td>\n",
       "      <td>15628.27</td>\n",
       "      <td>0.00</td>\n",
       "      <td>905.55</td>\n",
       "      <td>905.55</td>\n",
       "      <td>0.00</td>\n",
       "      <td>0.00</td>\n",
       "      <td>organic</td>\n",
       "      <td>2015</td>\n",
       "      <td>Chicago</td>\n",
       "    </tr>\n",
       "    <tr>\n",
       "      <th>10009</th>\n",
       "      <td>51</td>\n",
       "      <td>2015-01-04</td>\n",
       "      <td>1.68</td>\n",
       "      <td>2896.72</td>\n",
       "      <td>161.68</td>\n",
       "      <td>206.96</td>\n",
       "      <td>0.00</td>\n",
       "      <td>2528.08</td>\n",
       "      <td>2528.08</td>\n",
       "      <td>0.00</td>\n",
       "      <td>0.00</td>\n",
       "      <td>organic</td>\n",
       "      <td>2015</td>\n",
       "      <td>HarrisburgScranton</td>\n",
       "    </tr>\n",
       "    <tr>\n",
       "      <th>1819</th>\n",
       "      <td>51</td>\n",
       "      <td>2015-01-04</td>\n",
       "      <td>1.52</td>\n",
       "      <td>54956.80</td>\n",
       "      <td>3013.04</td>\n",
       "      <td>35456.88</td>\n",
       "      <td>1561.70</td>\n",
       "      <td>14925.18</td>\n",
       "      <td>11264.80</td>\n",
       "      <td>3660.38</td>\n",
       "      <td>0.00</td>\n",
       "      <td>conventional</td>\n",
       "      <td>2015</td>\n",
       "      <td>Pittsburgh</td>\n",
       "    </tr>\n",
       "    <tr>\n",
       "      <th>9333</th>\n",
       "      <td>51</td>\n",
       "      <td>2015-01-04</td>\n",
       "      <td>1.64</td>\n",
       "      <td>1505.12</td>\n",
       "      <td>1.27</td>\n",
       "      <td>1129.50</td>\n",
       "      <td>0.00</td>\n",
       "      <td>374.35</td>\n",
       "      <td>186.67</td>\n",
       "      <td>187.68</td>\n",
       "      <td>0.00</td>\n",
       "      <td>organic</td>\n",
       "      <td>2015</td>\n",
       "      <td>Boise</td>\n",
       "    </tr>\n",
       "    <tr>\n",
       "      <th>...</th>\n",
       "      <td>...</td>\n",
       "      <td>...</td>\n",
       "      <td>...</td>\n",
       "      <td>...</td>\n",
       "      <td>...</td>\n",
       "      <td>...</td>\n",
       "      <td>...</td>\n",
       "      <td>...</td>\n",
       "      <td>...</td>\n",
       "      <td>...</td>\n",
       "      <td>...</td>\n",
       "      <td>...</td>\n",
       "      <td>...</td>\n",
       "      <td>...</td>\n",
       "    </tr>\n",
       "    <tr>\n",
       "      <th>8574</th>\n",
       "      <td>0</td>\n",
       "      <td>2018-03-25</td>\n",
       "      <td>1.36</td>\n",
       "      <td>908202.13</td>\n",
       "      <td>142681.06</td>\n",
       "      <td>463136.28</td>\n",
       "      <td>174975.75</td>\n",
       "      <td>127409.04</td>\n",
       "      <td>103579.41</td>\n",
       "      <td>22467.04</td>\n",
       "      <td>1362.59</td>\n",
       "      <td>conventional</td>\n",
       "      <td>2018</td>\n",
       "      <td>Chicago</td>\n",
       "    </tr>\n",
       "    <tr>\n",
       "      <th>9018</th>\n",
       "      <td>0</td>\n",
       "      <td>2018-03-25</td>\n",
       "      <td>0.70</td>\n",
       "      <td>9010588.32</td>\n",
       "      <td>3999735.71</td>\n",
       "      <td>966589.50</td>\n",
       "      <td>30130.82</td>\n",
       "      <td>4014132.29</td>\n",
       "      <td>3398569.92</td>\n",
       "      <td>546409.74</td>\n",
       "      <td>69152.63</td>\n",
       "      <td>conventional</td>\n",
       "      <td>2018</td>\n",
       "      <td>SouthCentral</td>\n",
       "    </tr>\n",
       "    <tr>\n",
       "      <th>18141</th>\n",
       "      <td>0</td>\n",
       "      <td>2018-03-25</td>\n",
       "      <td>1.42</td>\n",
       "      <td>163496.70</td>\n",
       "      <td>29253.30</td>\n",
       "      <td>5080.04</td>\n",
       "      <td>0.00</td>\n",
       "      <td>129163.36</td>\n",
       "      <td>109052.26</td>\n",
       "      <td>20111.10</td>\n",
       "      <td>0.00</td>\n",
       "      <td>organic</td>\n",
       "      <td>2018</td>\n",
       "      <td>SouthCentral</td>\n",
       "    </tr>\n",
       "    <tr>\n",
       "      <th>17673</th>\n",
       "      <td>0</td>\n",
       "      <td>2018-03-25</td>\n",
       "      <td>1.70</td>\n",
       "      <td>190257.38</td>\n",
       "      <td>29644.09</td>\n",
       "      <td>70982.10</td>\n",
       "      <td>0.00</td>\n",
       "      <td>89631.19</td>\n",
       "      <td>89424.11</td>\n",
       "      <td>207.08</td>\n",
       "      <td>0.00</td>\n",
       "      <td>organic</td>\n",
       "      <td>2018</td>\n",
       "      <td>California</td>\n",
       "    </tr>\n",
       "    <tr>\n",
       "      <th>8814</th>\n",
       "      <td>0</td>\n",
       "      <td>2018-03-25</td>\n",
       "      <td>1.34</td>\n",
       "      <td>1774776.77</td>\n",
       "      <td>63905.98</td>\n",
       "      <td>908653.71</td>\n",
       "      <td>843.45</td>\n",
       "      <td>801373.63</td>\n",
       "      <td>774634.09</td>\n",
       "      <td>23833.93</td>\n",
       "      <td>2905.61</td>\n",
       "      <td>conventional</td>\n",
       "      <td>2018</td>\n",
       "      <td>NewYork</td>\n",
       "    </tr>\n",
       "  </tbody>\n",
       "</table>\n",
       "<p>18249 rows × 14 columns</p>\n",
       "</div>"
      ],
      "text/plain": [
       "       Unnamed: 0        Date  ...  year              region\n",
       "11569          51  2015-01-04  ...  2015           Southeast\n",
       "9593           51  2015-01-04  ...  2015             Chicago\n",
       "10009          51  2015-01-04  ...  2015  HarrisburgScranton\n",
       "1819           51  2015-01-04  ...  2015          Pittsburgh\n",
       "9333           51  2015-01-04  ...  2015               Boise\n",
       "...           ...         ...  ...   ...                 ...\n",
       "8574            0  2018-03-25  ...  2018             Chicago\n",
       "9018            0  2018-03-25  ...  2018        SouthCentral\n",
       "18141           0  2018-03-25  ...  2018        SouthCentral\n",
       "17673           0  2018-03-25  ...  2018          California\n",
       "8814            0  2018-03-25  ...  2018             NewYork\n",
       "\n",
       "[18249 rows x 14 columns]"
      ]
     },
     "execution_count": 6,
     "metadata": {
      "tags": []
     },
     "output_type": "execute_result"
    }
   ],
   "source": [
    "avocado_df = avocado_df.sort_values('Date')\n",
    "avocado_df"
   ]
  },
  {
   "cell_type": "code",
   "execution_count": 8,
   "metadata": {
    "colab": {
     "base_uri": "https://localhost:8080/",
     "height": 610
    },
    "executionInfo": {
     "elapsed": 4730,
     "status": "ok",
     "timestamp": 1608195818146,
     "user": {
      "displayName": "Shahid Ansari",
      "photoUrl": "https://lh3.googleusercontent.com/a-/AOh14GgNI1mPL87f4HLtXTQOdtG3HjBEWRPeVLzwEauZ_oU=s64",
      "userId": "04816463903886786764"
     },
     "user_tz": -330
    },
    "id": "xk4gYGwV7mWp",
    "outputId": "792f31b1-6ccf-4863-937c-148019171c76"
   },
   "outputs": [
    {
     "data": {
      "text/plain": [
       "[<matplotlib.lines.Line2D at 0x7fdce4215f28>]"
      ]
     },
     "execution_count": 8,
     "metadata": {
      "tags": []
     },
     "output_type": "execute_result"
    },
    {
     "data": {
      "image/png": "[encoded data removed]",
      "text/plain": [
       "<Figure size 720x720 with 1 Axes>"
      ]
     },
     "metadata": {
      "needs_background": "light",
      "tags": []
     },
     "output_type": "display_data"
    }
   ],
   "source": [
    "plt.figure(figsize = (10,10))\n",
    "plt.plot(avocado_df['Date'],avocado_df['AveragePrice'])"
   ]
  },
  {
   "cell_type": "code",
   "execution_count": 10,
   "metadata": {
    "colab": {
     "base_uri": "https://localhost:8080/",
     "height": 706
    },
    "executionInfo": {
     "elapsed": 3298,
     "status": "ok",
     "timestamp": 1608195924083,
     "user": {
      "displayName": "Shahid Ansari",
      "photoUrl": "https://lh3.googleusercontent.com/a-/AOh14GgNI1mPL87f4HLtXTQOdtG3HjBEWRPeVLzwEauZ_oU=s64",
      "userId": "04816463903886786764"
     },
     "user_tz": -330
    },
    "id": "Ix1c2jS87_oY",
    "outputId": "1c573064-6bda-4f6a-da74-9d0df2d8e79b"
   },
   "outputs": [
    {
     "data": {
      "text/plain": [
       "<matplotlib.axes._subplots.AxesSubplot at 0x7fdce3966748>"
      ]
     },
     "execution_count": 10,
     "metadata": {
      "tags": []
     },
     "output_type": "execute_result"
    },
    {
     "data": {
      "image/png": "[encoded data removed]",
      "text/plain": [
       "<Figure size 720x720 with 1 Axes>"
      ]
     },
     "metadata": {
      "needs_background": "light",
      "tags": []
     },
     "output_type": "display_data"
    }
   ],
   "source": [
    "plt.figure(figsize = (10,10))\n",
    "avocado_df.region.value_counts().plot(kind = 'bar')"
   ]
  },
  {
   "cell_type": "code",
   "execution_count": 12,
   "metadata": {
    "colab": {
     "base_uri": "https://localhost:8080/",
     "height": 297
    },
    "executionInfo": {
     "elapsed": 2115,
     "status": "ok",
     "timestamp": 1608196135841,
     "user": {
      "displayName": "Shahid Ansari",
      "photoUrl": "https://lh3.googleusercontent.com/a-/AOh14GgNI1mPL87f4HLtXTQOdtG3HjBEWRPeVLzwEauZ_oU=s64",
      "userId": "04816463903886786764"
     },
     "user_tz": -330
    },
    "id": "LWNKBIrt8e-M",
    "outputId": "3f8a0c5b-724e-423a-8e8a-2c233deea1a9"
   },
   "outputs": [
    {
     "data": {
      "image/png": "[encoded data removed]",
      "text/plain": [
       "<Figure size 432x288 with 1 Axes>"
      ]
     },
     "metadata": {
      "needs_background": "light",
      "tags": []
     },
     "output_type": "display_data"
    }
   ],
   "source": [
    "avocado_df.year.value_counts().plot(kind='bar')\n",
    "plt.xlabel('Year')\n",
    "plt.ylabel('Number of Sales')\n",
    "plt.show()"
   ]
  },
  {
   "cell_type": "code",
   "execution_count": 13,
   "metadata": {
    "executionInfo": {
     "elapsed": 1960,
     "status": "ok",
     "timestamp": 1608196204171,
     "user": {
      "displayName": "Shahid Ansari",
      "photoUrl": "https://lh3.googleusercontent.com/a-/AOh14GgNI1mPL87f4HLtXTQOdtG3HjBEWRPeVLzwEauZ_oU=s64",
      "userId": "04816463903886786764"
     },
     "user_tz": -330
    },
    "id": "iHr7V2Jk9OFl"
   },
   "outputs": [],
   "source": [
    "avocado_prophet_df = avocado_df[['Date','AveragePrice']]"
   ]
  },
  {
   "cell_type": "code",
   "execution_count": 14,
   "metadata": {
    "colab": {
     "base_uri": "https://localhost:8080/",
     "height": 406
    },
    "executionInfo": {
     "elapsed": 2150,
     "status": "ok",
     "timestamp": 1608196211653,
     "user": {
      "displayName": "Shahid Ansari",
      "photoUrl": "https://lh3.googleusercontent.com/a-/AOh14GgNI1mPL87f4HLtXTQOdtG3HjBEWRPeVLzwEauZ_oU=s64",
      "userId": "04816463903886786764"
     },
     "user_tz": -330
    },
    "id": "SgoJ5gRn9p5F",
    "outputId": "9be3e5d2-5948-40e8-dee3-6cbc5345fa34"
   },
   "outputs": [
    {
     "data": {
      "text/html": [
       "<div>\n",
       "<style scoped>\n",
       "    .dataframe tbody tr th:only-of-type {\n",
       "        vertical-align: middle;\n",
       "    }\n",
       "\n",
       "    .dataframe tbody tr th {\n",
       "        vertical-align: top;\n",
       "    }\n",
       "\n",
       "    .dataframe thead th {\n",
       "        text-align: right;\n",
       "    }\n",
       "</style>\n",
       "<table border=\"1\" class=\"dataframe\">\n",
       "  <thead>\n",
       "    <tr style=\"text-align: right;\">\n",
       "      <th></th>\n",
       "      <th>Date</th>\n",
       "      <th>AveragePrice</th>\n",
       "    </tr>\n",
       "  </thead>\n",
       "  <tbody>\n",
       "    <tr>\n",
       "      <th>11569</th>\n",
       "      <td>2015-01-04</td>\n",
       "      <td>1.75</td>\n",
       "    </tr>\n",
       "    <tr>\n",
       "      <th>9593</th>\n",
       "      <td>2015-01-04</td>\n",
       "      <td>1.49</td>\n",
       "    </tr>\n",
       "    <tr>\n",
       "      <th>10009</th>\n",
       "      <td>2015-01-04</td>\n",
       "      <td>1.68</td>\n",
       "    </tr>\n",
       "    <tr>\n",
       "      <th>1819</th>\n",
       "      <td>2015-01-04</td>\n",
       "      <td>1.52</td>\n",
       "    </tr>\n",
       "    <tr>\n",
       "      <th>9333</th>\n",
       "      <td>2015-01-04</td>\n",
       "      <td>1.64</td>\n",
       "    </tr>\n",
       "    <tr>\n",
       "      <th>...</th>\n",
       "      <td>...</td>\n",
       "      <td>...</td>\n",
       "    </tr>\n",
       "    <tr>\n",
       "      <th>8574</th>\n",
       "      <td>2018-03-25</td>\n",
       "      <td>1.36</td>\n",
       "    </tr>\n",
       "    <tr>\n",
       "      <th>9018</th>\n",
       "      <td>2018-03-25</td>\n",
       "      <td>0.70</td>\n",
       "    </tr>\n",
       "    <tr>\n",
       "      <th>18141</th>\n",
       "      <td>2018-03-25</td>\n",
       "      <td>1.42</td>\n",
       "    </tr>\n",
       "    <tr>\n",
       "      <th>17673</th>\n",
       "      <td>2018-03-25</td>\n",
       "      <td>1.70</td>\n",
       "    </tr>\n",
       "    <tr>\n",
       "      <th>8814</th>\n",
       "      <td>2018-03-25</td>\n",
       "      <td>1.34</td>\n",
       "    </tr>\n",
       "  </tbody>\n",
       "</table>\n",
       "<p>18249 rows × 2 columns</p>\n",
       "</div>"
      ],
      "text/plain": [
       "             Date  AveragePrice\n",
       "11569  2015-01-04          1.75\n",
       "9593   2015-01-04          1.49\n",
       "10009  2015-01-04          1.68\n",
       "1819   2015-01-04          1.52\n",
       "9333   2015-01-04          1.64\n",
       "...           ...           ...\n",
       "8574   2018-03-25          1.36\n",
       "9018   2018-03-25          0.70\n",
       "18141  2018-03-25          1.42\n",
       "17673  2018-03-25          1.70\n",
       "8814   2018-03-25          1.34\n",
       "\n",
       "[18249 rows x 2 columns]"
      ]
     },
     "execution_count": 14,
     "metadata": {
      "tags": []
     },
     "output_type": "execute_result"
    }
   ],
   "source": [
    "avocado_prophet_df"
   ]
  },
  {
   "cell_type": "markdown",
   "metadata": {
    "id": "Bf7_inzb96jx"
   },
   "source": [
    "## Make Predictions"
   ]
  },
  {
   "cell_type": "code",
   "execution_count": 15,
   "metadata": {
    "executionInfo": {
     "elapsed": 2077,
     "status": "ok",
     "timestamp": 1608196499800,
     "user": {
      "displayName": "Shahid Ansari",
      "photoUrl": "https://lh3.googleusercontent.com/a-/AOh14GgNI1mPL87f4HLtXTQOdtG3HjBEWRPeVLzwEauZ_oU=s64",
      "userId": "04816463903886786764"
     },
     "user_tz": -330
    },
    "id": "omnwa9bq9rpw"
   },
   "outputs": [],
   "source": [
    "avocado_prophet_df = avocado_prophet_df.rename(columns = {'Date':'ds','AveragePrice':'y'})"
   ]
  },
  {
   "cell_type": "code",
   "execution_count": 16,
   "metadata": {
    "colab": {
     "base_uri": "https://localhost:8080/",
     "height": 406
    },
    "executionInfo": {
     "elapsed": 2020,
     "status": "ok",
     "timestamp": 1608196516362,
     "user": {
      "displayName": "Shahid Ansari",
      "photoUrl": "https://lh3.googleusercontent.com/a-/AOh14GgNI1mPL87f4HLtXTQOdtG3HjBEWRPeVLzwEauZ_oU=s64",
      "userId": "04816463903886786764"
     },
     "user_tz": -330
    },
    "id": "hKssQJMk-yCG",
    "outputId": "664cf4d5-2518-41e8-d344-6396215d2ffa"
   },
   "outputs": [
    {
     "data": {
      "text/html": [
       "<div>\n",
       "<style scoped>\n",
       "    .dataframe tbody tr th:only-of-type {\n",
       "        vertical-align: middle;\n",
       "    }\n",
       "\n",
       "    .dataframe tbody tr th {\n",
       "        vertical-align: top;\n",
       "    }\n",
       "\n",
       "    .dataframe thead th {\n",
       "        text-align: right;\n",
       "    }\n",
       "</style>\n",
       "<table border=\"1\" class=\"dataframe\">\n",
       "  <thead>\n",
       "    <tr style=\"text-align: right;\">\n",
       "      <th></th>\n",
       "      <th>ds</th>\n",
       "      <th>y</th>\n",
       "    </tr>\n",
       "  </thead>\n",
       "  <tbody>\n",
       "    <tr>\n",
       "      <th>11569</th>\n",
       "      <td>2015-01-04</td>\n",
       "      <td>1.75</td>\n",
       "    </tr>\n",
       "    <tr>\n",
       "      <th>9593</th>\n",
       "      <td>2015-01-04</td>\n",
       "      <td>1.49</td>\n",
       "    </tr>\n",
       "    <tr>\n",
       "      <th>10009</th>\n",
       "      <td>2015-01-04</td>\n",
       "      <td>1.68</td>\n",
       "    </tr>\n",
       "    <tr>\n",
       "      <th>1819</th>\n",
       "      <td>2015-01-04</td>\n",
       "      <td>1.52</td>\n",
       "    </tr>\n",
       "    <tr>\n",
       "      <th>9333</th>\n",
       "      <td>2015-01-04</td>\n",
       "      <td>1.64</td>\n",
       "    </tr>\n",
       "    <tr>\n",
       "      <th>...</th>\n",
       "      <td>...</td>\n",
       "      <td>...</td>\n",
       "    </tr>\n",
       "    <tr>\n",
       "      <th>8574</th>\n",
       "      <td>2018-03-25</td>\n",
       "      <td>1.36</td>\n",
       "    </tr>\n",
       "    <tr>\n",
       "      <th>9018</th>\n",
       "      <td>2018-03-25</td>\n",
       "      <td>0.70</td>\n",
       "    </tr>\n",
       "    <tr>\n",
       "      <th>18141</th>\n",
       "      <td>2018-03-25</td>\n",
       "      <td>1.42</td>\n",
       "    </tr>\n",
       "    <tr>\n",
       "      <th>17673</th>\n",
       "      <td>2018-03-25</td>\n",
       "      <td>1.70</td>\n",
       "    </tr>\n",
       "    <tr>\n",
       "      <th>8814</th>\n",
       "      <td>2018-03-25</td>\n",
       "      <td>1.34</td>\n",
       "    </tr>\n",
       "  </tbody>\n",
       "</table>\n",
       "<p>18249 rows × 2 columns</p>\n",
       "</div>"
      ],
      "text/plain": [
       "               ds     y\n",
       "11569  2015-01-04  1.75\n",
       "9593   2015-01-04  1.49\n",
       "10009  2015-01-04  1.68\n",
       "1819   2015-01-04  1.52\n",
       "9333   2015-01-04  1.64\n",
       "...           ...   ...\n",
       "8574   2018-03-25  1.36\n",
       "9018   2018-03-25  0.70\n",
       "18141  2018-03-25  1.42\n",
       "17673  2018-03-25  1.70\n",
       "8814   2018-03-25  1.34\n",
       "\n",
       "[18249 rows x 2 columns]"
      ]
     },
     "execution_count": 16,
     "metadata": {
      "tags": []
     },
     "output_type": "execute_result"
    }
   ],
   "source": [
    "avocado_prophet_df"
   ]
  },
  {
   "cell_type": "code",
   "execution_count": 17,
   "metadata": {
    "colab": {
     "base_uri": "https://localhost:8080/"
    },
    "executionInfo": {
     "elapsed": 12168,
     "status": "ok",
     "timestamp": 1608196558179,
     "user": {
      "displayName": "Shahid Ansari",
      "photoUrl": "https://lh3.googleusercontent.com/a-/AOh14GgNI1mPL87f4HLtXTQOdtG3HjBEWRPeVLzwEauZ_oU=s64",
      "userId": "04816463903886786764"
     },
     "user_tz": -330
    },
    "id": "Xaky2185-1vx",
    "outputId": "9e34fd6b-7ae3-465c-b8e8-6630119842d3"
   },
   "outputs": [
    {
     "name": "stderr",
     "output_type": "stream",
     "text": [
      "INFO:numexpr.utils:NumExpr defaulting to 2 threads.\n",
      "INFO:fbprophet:Disabling weekly seasonality. Run prophet with weekly_seasonality=True to override this.\n",
      "INFO:fbprophet:Disabling daily seasonality. Run prophet with daily_seasonality=True to override this.\n"
     ]
    },
    {
     "data": {
      "text/plain": [
       "<fbprophet.forecaster.Prophet at 0x7fdce4236940>"
      ]
     },
     "execution_count": 17,
     "metadata": {
      "tags": []
     },
     "output_type": "execute_result"
    }
   ],
   "source": [
    "m = Prophet()\n",
    "m.fit(avocado_prophet_df)"
   ]
  },
  {
   "cell_type": "code",
   "execution_count": 19,
   "metadata": {
    "executionInfo": {
     "elapsed": 4938,
     "status": "ok",
     "timestamp": 1608196685223,
     "user": {
      "displayName": "Shahid Ansari",
      "photoUrl": "https://lh3.googleusercontent.com/a-/AOh14GgNI1mPL87f4HLtXTQOdtG3HjBEWRPeVLzwEauZ_oU=s64",
      "userId": "04816463903886786764"
     },
     "user_tz": -330
    },
    "id": "7QlPDpYi-90P"
   },
   "outputs": [],
   "source": [
    "future = m.make_future_dataframe(periods = 365)\n",
    "forecast = m.predict(future)"
   ]
  },
  {
   "cell_type": "code",
   "execution_count": 20,
   "metadata": {
    "colab": {
     "base_uri": "https://localhost:8080/",
     "height": 593
    },
    "executionInfo": {
     "elapsed": 2434,
     "status": "ok",
     "timestamp": 1608196695308,
     "user": {
      "displayName": "Shahid Ansari",
      "photoUrl": "https://lh3.googleusercontent.com/a-/AOh14GgNI1mPL87f4HLtXTQOdtG3HjBEWRPeVLzwEauZ_oU=s64",
      "userId": "04816463903886786764"
     },
     "user_tz": -330
    },
    "id": "FKus4YLv_HQ5",
    "outputId": "b8f18de2-53e2-427c-ebb7-f74bd63998a5"
   },
   "outputs": [
    {
     "data": {
      "text/html": [
       "<div>\n",
       "<style scoped>\n",
       "    .dataframe tbody tr th:only-of-type {\n",
       "        vertical-align: middle;\n",
       "    }\n",
       "\n",
       "    .dataframe tbody tr th {\n",
       "        vertical-align: top;\n",
       "    }\n",
       "\n",
       "    .dataframe thead th {\n",
       "        text-align: right;\n",
       "    }\n",
       "</style>\n",
       "<table border=\"1\" class=\"dataframe\">\n",
       "  <thead>\n",
       "    <tr style=\"text-align: right;\">\n",
       "      <th></th>\n",
       "      <th>ds</th>\n",
       "      <th>trend</th>\n",
       "      <th>yhat_lower</th>\n",
       "      <th>yhat_upper</th>\n",
       "      <th>trend_lower</th>\n",
       "      <th>trend_upper</th>\n",
       "      <th>additive_terms</th>\n",
       "      <th>additive_terms_lower</th>\n",
       "      <th>additive_terms_upper</th>\n",
       "      <th>yearly</th>\n",
       "      <th>yearly_lower</th>\n",
       "      <th>yearly_upper</th>\n",
       "      <th>multiplicative_terms</th>\n",
       "      <th>multiplicative_terms_lower</th>\n",
       "      <th>multiplicative_terms_upper</th>\n",
       "      <th>yhat</th>\n",
       "    </tr>\n",
       "  </thead>\n",
       "  <tbody>\n",
       "    <tr>\n",
       "      <th>0</th>\n",
       "      <td>2015-01-04</td>\n",
       "      <td>1.498818</td>\n",
       "      <td>0.908894</td>\n",
       "      <td>1.871596</td>\n",
       "      <td>1.498818</td>\n",
       "      <td>1.498818</td>\n",
       "      <td>-0.113604</td>\n",
       "      <td>-0.113604</td>\n",
       "      <td>-0.113604</td>\n",
       "      <td>-0.113604</td>\n",
       "      <td>-0.113604</td>\n",
       "      <td>-0.113604</td>\n",
       "      <td>0.0</td>\n",
       "      <td>0.0</td>\n",
       "      <td>0.0</td>\n",
       "      <td>1.385214</td>\n",
       "    </tr>\n",
       "    <tr>\n",
       "      <th>1</th>\n",
       "      <td>2015-01-11</td>\n",
       "      <td>1.493637</td>\n",
       "      <td>0.922363</td>\n",
       "      <td>1.884895</td>\n",
       "      <td>1.493637</td>\n",
       "      <td>1.493637</td>\n",
       "      <td>-0.105192</td>\n",
       "      <td>-0.105192</td>\n",
       "      <td>-0.105192</td>\n",
       "      <td>-0.105192</td>\n",
       "      <td>-0.105192</td>\n",
       "      <td>-0.105192</td>\n",
       "      <td>0.0</td>\n",
       "      <td>0.0</td>\n",
       "      <td>0.0</td>\n",
       "      <td>1.388445</td>\n",
       "    </tr>\n",
       "    <tr>\n",
       "      <th>2</th>\n",
       "      <td>2015-01-18</td>\n",
       "      <td>1.488455</td>\n",
       "      <td>0.870984</td>\n",
       "      <td>1.908558</td>\n",
       "      <td>1.488455</td>\n",
       "      <td>1.488455</td>\n",
       "      <td>-0.104862</td>\n",
       "      <td>-0.104862</td>\n",
       "      <td>-0.104862</td>\n",
       "      <td>-0.104862</td>\n",
       "      <td>-0.104862</td>\n",
       "      <td>-0.104862</td>\n",
       "      <td>0.0</td>\n",
       "      <td>0.0</td>\n",
       "      <td>0.0</td>\n",
       "      <td>1.383592</td>\n",
       "    </tr>\n",
       "    <tr>\n",
       "      <th>3</th>\n",
       "      <td>2015-01-25</td>\n",
       "      <td>1.483273</td>\n",
       "      <td>0.886936</td>\n",
       "      <td>1.847465</td>\n",
       "      <td>1.483273</td>\n",
       "      <td>1.483273</td>\n",
       "      <td>-0.123788</td>\n",
       "      <td>-0.123788</td>\n",
       "      <td>-0.123788</td>\n",
       "      <td>-0.123788</td>\n",
       "      <td>-0.123788</td>\n",
       "      <td>-0.123788</td>\n",
       "      <td>0.0</td>\n",
       "      <td>0.0</td>\n",
       "      <td>0.0</td>\n",
       "      <td>1.359485</td>\n",
       "    </tr>\n",
       "    <tr>\n",
       "      <th>4</th>\n",
       "      <td>2015-02-01</td>\n",
       "      <td>1.478091</td>\n",
       "      <td>0.825198</td>\n",
       "      <td>1.866960</td>\n",
       "      <td>1.478091</td>\n",
       "      <td>1.478091</td>\n",
       "      <td>-0.152113</td>\n",
       "      <td>-0.152113</td>\n",
       "      <td>-0.152113</td>\n",
       "      <td>-0.152113</td>\n",
       "      <td>-0.152113</td>\n",
       "      <td>-0.152113</td>\n",
       "      <td>0.0</td>\n",
       "      <td>0.0</td>\n",
       "      <td>0.0</td>\n",
       "      <td>1.325978</td>\n",
       "    </tr>\n",
       "    <tr>\n",
       "      <th>...</th>\n",
       "      <td>...</td>\n",
       "      <td>...</td>\n",
       "      <td>...</td>\n",
       "      <td>...</td>\n",
       "      <td>...</td>\n",
       "      <td>...</td>\n",
       "      <td>...</td>\n",
       "      <td>...</td>\n",
       "      <td>...</td>\n",
       "      <td>...</td>\n",
       "      <td>...</td>\n",
       "      <td>...</td>\n",
       "      <td>...</td>\n",
       "      <td>...</td>\n",
       "      <td>...</td>\n",
       "      <td>...</td>\n",
       "    </tr>\n",
       "    <tr>\n",
       "      <th>529</th>\n",
       "      <td>2019-03-21</td>\n",
       "      <td>1.161735</td>\n",
       "      <td>0.535652</td>\n",
       "      <td>1.573223</td>\n",
       "      <td>0.973956</td>\n",
       "      <td>1.342041</td>\n",
       "      <td>-0.086198</td>\n",
       "      <td>-0.086198</td>\n",
       "      <td>-0.086198</td>\n",
       "      <td>-0.086198</td>\n",
       "      <td>-0.086198</td>\n",
       "      <td>-0.086198</td>\n",
       "      <td>0.0</td>\n",
       "      <td>0.0</td>\n",
       "      <td>0.0</td>\n",
       "      <td>1.075537</td>\n",
       "    </tr>\n",
       "    <tr>\n",
       "      <th>530</th>\n",
       "      <td>2019-03-22</td>\n",
       "      <td>1.161003</td>\n",
       "      <td>0.573159</td>\n",
       "      <td>1.579985</td>\n",
       "      <td>0.972219</td>\n",
       "      <td>1.342521</td>\n",
       "      <td>-0.084518</td>\n",
       "      <td>-0.084518</td>\n",
       "      <td>-0.084518</td>\n",
       "      <td>-0.084518</td>\n",
       "      <td>-0.084518</td>\n",
       "      <td>-0.084518</td>\n",
       "      <td>0.0</td>\n",
       "      <td>0.0</td>\n",
       "      <td>0.0</td>\n",
       "      <td>1.076485</td>\n",
       "    </tr>\n",
       "    <tr>\n",
       "      <th>531</th>\n",
       "      <td>2019-03-23</td>\n",
       "      <td>1.160272</td>\n",
       "      <td>0.549009</td>\n",
       "      <td>1.604401</td>\n",
       "      <td>0.970481</td>\n",
       "      <td>1.342900</td>\n",
       "      <td>-0.082565</td>\n",
       "      <td>-0.082565</td>\n",
       "      <td>-0.082565</td>\n",
       "      <td>-0.082565</td>\n",
       "      <td>-0.082565</td>\n",
       "      <td>-0.082565</td>\n",
       "      <td>0.0</td>\n",
       "      <td>0.0</td>\n",
       "      <td>0.0</td>\n",
       "      <td>1.077707</td>\n",
       "    </tr>\n",
       "    <tr>\n",
       "      <th>532</th>\n",
       "      <td>2019-03-24</td>\n",
       "      <td>1.159540</td>\n",
       "      <td>0.528781</td>\n",
       "      <td>1.575991</td>\n",
       "      <td>0.968744</td>\n",
       "      <td>1.343292</td>\n",
       "      <td>-0.080358</td>\n",
       "      <td>-0.080358</td>\n",
       "      <td>-0.080358</td>\n",
       "      <td>-0.080358</td>\n",
       "      <td>-0.080358</td>\n",
       "      <td>-0.080358</td>\n",
       "      <td>0.0</td>\n",
       "      <td>0.0</td>\n",
       "      <td>0.0</td>\n",
       "      <td>1.079182</td>\n",
       "    </tr>\n",
       "    <tr>\n",
       "      <th>533</th>\n",
       "      <td>2019-03-25</td>\n",
       "      <td>1.158809</td>\n",
       "      <td>0.581014</td>\n",
       "      <td>1.625351</td>\n",
       "      <td>0.967007</td>\n",
       "      <td>1.342832</td>\n",
       "      <td>-0.077925</td>\n",
       "      <td>-0.077925</td>\n",
       "      <td>-0.077925</td>\n",
       "      <td>-0.077925</td>\n",
       "      <td>-0.077925</td>\n",
       "      <td>-0.077925</td>\n",
       "      <td>0.0</td>\n",
       "      <td>0.0</td>\n",
       "      <td>0.0</td>\n",
       "      <td>1.080884</td>\n",
       "    </tr>\n",
       "  </tbody>\n",
       "</table>\n",
       "<p>534 rows × 16 columns</p>\n",
       "</div>"
      ],
      "text/plain": [
       "            ds     trend  ...  multiplicative_terms_upper      yhat\n",
       "0   2015-01-04  1.498818  ...                         0.0  1.385214\n",
       "1   2015-01-11  1.493637  ...                         0.0  1.388445\n",
       "2   2015-01-18  1.488455  ...                         0.0  1.383592\n",
       "3   2015-01-25  1.483273  ...                         0.0  1.359485\n",
       "4   2015-02-01  1.478091  ...                         0.0  1.325978\n",
       "..         ...       ...  ...                         ...       ...\n",
       "529 2019-03-21  1.161735  ...                         0.0  1.075537\n",
       "530 2019-03-22  1.161003  ...                         0.0  1.076485\n",
       "531 2019-03-23  1.160272  ...                         0.0  1.077707\n",
       "532 2019-03-24  1.159540  ...                         0.0  1.079182\n",
       "533 2019-03-25  1.158809  ...                         0.0  1.080884\n",
       "\n",
       "[534 rows x 16 columns]"
      ]
     },
     "execution_count": 20,
     "metadata": {
      "tags": []
     },
     "output_type": "execute_result"
    }
   ],
   "source": [
    "forecast"
   ]
  },
  {
   "cell_type": "code",
   "execution_count": 21,
   "metadata": {
    "colab": {
     "base_uri": "https://localhost:8080/",
     "height": 441
    },
    "executionInfo": {
     "elapsed": 4543,
     "status": "ok",
     "timestamp": 1608196781483,
     "user": {
      "displayName": "Shahid Ansari",
      "photoUrl": "https://lh3.googleusercontent.com/a-/AOh14GgNI1mPL87f4HLtXTQOdtG3HjBEWRPeVLzwEauZ_oU=s64",
      "userId": "04816463903886786764"
     },
     "user_tz": -330
    },
    "id": "hIGZ4ykO_hbP",
    "outputId": "bf71653d-4144-4e97-9573-b39d6e6dac1e"
   },
   "outputs": [
    {
     "data": {
      "image/png": "[encoded data removed]",
      "text/plain": [
       "<Figure size 720x432 with 1 Axes>"
      ]
     },
     "metadata": {
      "tags": []
     },
     "output_type": "display_data"
    }
   ],
   "source": [
    "figure = m.plot(forecast, xlabel = 'Years',ylabel = 'Price')"
   ]
  },
  {
   "cell_type": "code",
   "execution_count": 22,
   "metadata": {
    "colab": {
     "base_uri": "https://localhost:8080/",
     "height": 441
    },
    "executionInfo": {
     "elapsed": 2848,
     "status": "ok",
     "timestamp": 1608196870863,
     "user": {
      "displayName": "Shahid Ansari",
      "photoUrl": "https://lh3.googleusercontent.com/a-/AOh14GgNI1mPL87f4HLtXTQOdtG3HjBEWRPeVLzwEauZ_oU=s64",
      "userId": "04816463903886786764"
     },
     "user_tz": -330
    },
    "id": "peEnkIPG_2M5",
    "outputId": "c560aee4-a3a4-4cfa-a17e-0386f13e944c"
   },
   "outputs": [
    {
     "data": {
      "image/png": "[encoded data removed]",
      "text/plain": [
       "<Figure size 648x432 with 2 Axes>"
      ]
     },
     "metadata": {
      "tags": []
     },
     "output_type": "display_data"
    }
   ],
   "source": [
    "figure = m.plot_components(forecast)"
   ]
  },
  {
   "cell_type": "code",
   "execution_count": 23,
   "metadata": {
    "executionInfo": {
     "elapsed": 2406,
     "status": "ok",
     "timestamp": 1608197022673,
     "user": {
      "displayName": "Shahid Ansari",
      "photoUrl": "https://lh3.googleusercontent.com/a-/AOh14GgNI1mPL87f4HLtXTQOdtG3HjBEWRPeVLzwEauZ_oU=s64",
      "userId": "04816463903886786764"
     },
     "user_tz": -330
    },
    "id": "0mc90uP0AMWz"
   },
   "outputs": [],
   "source": [
    "avocado_df = pd.read_csv('drive/MyDrive/Avacado Price Prediction/avocado.csv')"
   ]
  },
  {
   "cell_type": "code",
   "execution_count": 24,
   "metadata": {
    "colab": {
     "base_uri": "https://localhost:8080/",
     "height": 406
    },
    "executionInfo": {
     "elapsed": 1968,
     "status": "ok",
     "timestamp": 1608197030284,
     "user": {
      "displayName": "Shahid Ansari",
      "photoUrl": "https://lh3.googleusercontent.com/a-/AOh14GgNI1mPL87f4HLtXTQOdtG3HjBEWRPeVLzwEauZ_oU=s64",
      "userId": "04816463903886786764"
     },
     "user_tz": -330
    },
    "id": "VMoVr_U9AxnA",
    "outputId": "995a07a8-a1ed-4a7f-95c4-6e7fe912a925"
   },
   "outputs": [
    {
     "data": {
      "text/html": [
       "<div>\n",
       "<style scoped>\n",
       "    .dataframe tbody tr th:only-of-type {\n",
       "        vertical-align: middle;\n",
       "    }\n",
       "\n",
       "    .dataframe tbody tr th {\n",
       "        vertical-align: top;\n",
       "    }\n",
       "\n",
       "    .dataframe thead th {\n",
       "        text-align: right;\n",
       "    }\n",
       "</style>\n",
       "<table border=\"1\" class=\"dataframe\">\n",
       "  <thead>\n",
       "    <tr style=\"text-align: right;\">\n",
       "      <th></th>\n",
       "      <th>Unnamed: 0</th>\n",
       "      <th>Date</th>\n",
       "      <th>AveragePrice</th>\n",
       "      <th>Total Volume</th>\n",
       "      <th>4046</th>\n",
       "      <th>4225</th>\n",
       "      <th>4770</th>\n",
       "      <th>Total Bags</th>\n",
       "      <th>Small Bags</th>\n",
       "      <th>Large Bags</th>\n",
       "      <th>XLarge Bags</th>\n",
       "      <th>type</th>\n",
       "      <th>year</th>\n",
       "      <th>region</th>\n",
       "    </tr>\n",
       "  </thead>\n",
       "  <tbody>\n",
       "    <tr>\n",
       "      <th>0</th>\n",
       "      <td>0</td>\n",
       "      <td>2015-12-27</td>\n",
       "      <td>1.33</td>\n",
       "      <td>64236.62</td>\n",
       "      <td>1036.74</td>\n",
       "      <td>54454.85</td>\n",
       "      <td>48.16</td>\n",
       "      <td>8696.87</td>\n",
       "      <td>8603.62</td>\n",
       "      <td>93.25</td>\n",
       "      <td>0.0</td>\n",
       "      <td>conventional</td>\n",
       "      <td>2015</td>\n",
       "      <td>Albany</td>\n",
       "    </tr>\n",
       "    <tr>\n",
       "      <th>1</th>\n",
       "      <td>1</td>\n",
       "      <td>2015-12-20</td>\n",
       "      <td>1.35</td>\n",
       "      <td>54876.98</td>\n",
       "      <td>674.28</td>\n",
       "      <td>44638.81</td>\n",
       "      <td>58.33</td>\n",
       "      <td>9505.56</td>\n",
       "      <td>9408.07</td>\n",
       "      <td>97.49</td>\n",
       "      <td>0.0</td>\n",
       "      <td>conventional</td>\n",
       "      <td>2015</td>\n",
       "      <td>Albany</td>\n",
       "    </tr>\n",
       "    <tr>\n",
       "      <th>2</th>\n",
       "      <td>2</td>\n",
       "      <td>2015-12-13</td>\n",
       "      <td>0.93</td>\n",
       "      <td>118220.22</td>\n",
       "      <td>794.70</td>\n",
       "      <td>109149.67</td>\n",
       "      <td>130.50</td>\n",
       "      <td>8145.35</td>\n",
       "      <td>8042.21</td>\n",
       "      <td>103.14</td>\n",
       "      <td>0.0</td>\n",
       "      <td>conventional</td>\n",
       "      <td>2015</td>\n",
       "      <td>Albany</td>\n",
       "    </tr>\n",
       "    <tr>\n",
       "      <th>3</th>\n",
       "      <td>3</td>\n",
       "      <td>2015-12-06</td>\n",
       "      <td>1.08</td>\n",
       "      <td>78992.15</td>\n",
       "      <td>1132.00</td>\n",
       "      <td>71976.41</td>\n",
       "      <td>72.58</td>\n",
       "      <td>5811.16</td>\n",
       "      <td>5677.40</td>\n",
       "      <td>133.76</td>\n",
       "      <td>0.0</td>\n",
       "      <td>conventional</td>\n",
       "      <td>2015</td>\n",
       "      <td>Albany</td>\n",
       "    </tr>\n",
       "    <tr>\n",
       "      <th>4</th>\n",
       "      <td>4</td>\n",
       "      <td>2015-11-29</td>\n",
       "      <td>1.28</td>\n",
       "      <td>51039.60</td>\n",
       "      <td>941.48</td>\n",
       "      <td>43838.39</td>\n",
       "      <td>75.78</td>\n",
       "      <td>6183.95</td>\n",
       "      <td>5986.26</td>\n",
       "      <td>197.69</td>\n",
       "      <td>0.0</td>\n",
       "      <td>conventional</td>\n",
       "      <td>2015</td>\n",
       "      <td>Albany</td>\n",
       "    </tr>\n",
       "    <tr>\n",
       "      <th>...</th>\n",
       "      <td>...</td>\n",
       "      <td>...</td>\n",
       "      <td>...</td>\n",
       "      <td>...</td>\n",
       "      <td>...</td>\n",
       "      <td>...</td>\n",
       "      <td>...</td>\n",
       "      <td>...</td>\n",
       "      <td>...</td>\n",
       "      <td>...</td>\n",
       "      <td>...</td>\n",
       "      <td>...</td>\n",
       "      <td>...</td>\n",
       "      <td>...</td>\n",
       "    </tr>\n",
       "    <tr>\n",
       "      <th>18244</th>\n",
       "      <td>7</td>\n",
       "      <td>2018-02-04</td>\n",
       "      <td>1.63</td>\n",
       "      <td>17074.83</td>\n",
       "      <td>2046.96</td>\n",
       "      <td>1529.20</td>\n",
       "      <td>0.00</td>\n",
       "      <td>13498.67</td>\n",
       "      <td>13066.82</td>\n",
       "      <td>431.85</td>\n",
       "      <td>0.0</td>\n",
       "      <td>organic</td>\n",
       "      <td>2018</td>\n",
       "      <td>WestTexNewMexico</td>\n",
       "    </tr>\n",
       "    <tr>\n",
       "      <th>18245</th>\n",
       "      <td>8</td>\n",
       "      <td>2018-01-28</td>\n",
       "      <td>1.71</td>\n",
       "      <td>13888.04</td>\n",
       "      <td>1191.70</td>\n",
       "      <td>3431.50</td>\n",
       "      <td>0.00</td>\n",
       "      <td>9264.84</td>\n",
       "      <td>8940.04</td>\n",
       "      <td>324.80</td>\n",
       "      <td>0.0</td>\n",
       "      <td>organic</td>\n",
       "      <td>2018</td>\n",
       "      <td>WestTexNewMexico</td>\n",
       "    </tr>\n",
       "    <tr>\n",
       "      <th>18246</th>\n",
       "      <td>9</td>\n",
       "      <td>2018-01-21</td>\n",
       "      <td>1.87</td>\n",
       "      <td>13766.76</td>\n",
       "      <td>1191.92</td>\n",
       "      <td>2452.79</td>\n",
       "      <td>727.94</td>\n",
       "      <td>9394.11</td>\n",
       "      <td>9351.80</td>\n",
       "      <td>42.31</td>\n",
       "      <td>0.0</td>\n",
       "      <td>organic</td>\n",
       "      <td>2018</td>\n",
       "      <td>WestTexNewMexico</td>\n",
       "    </tr>\n",
       "    <tr>\n",
       "      <th>18247</th>\n",
       "      <td>10</td>\n",
       "      <td>2018-01-14</td>\n",
       "      <td>1.93</td>\n",
       "      <td>16205.22</td>\n",
       "      <td>1527.63</td>\n",
       "      <td>2981.04</td>\n",
       "      <td>727.01</td>\n",
       "      <td>10969.54</td>\n",
       "      <td>10919.54</td>\n",
       "      <td>50.00</td>\n",
       "      <td>0.0</td>\n",
       "      <td>organic</td>\n",
       "      <td>2018</td>\n",
       "      <td>WestTexNewMexico</td>\n",
       "    </tr>\n",
       "    <tr>\n",
       "      <th>18248</th>\n",
       "      <td>11</td>\n",
       "      <td>2018-01-07</td>\n",
       "      <td>1.62</td>\n",
       "      <td>17489.58</td>\n",
       "      <td>2894.77</td>\n",
       "      <td>2356.13</td>\n",
       "      <td>224.53</td>\n",
       "      <td>12014.15</td>\n",
       "      <td>11988.14</td>\n",
       "      <td>26.01</td>\n",
       "      <td>0.0</td>\n",
       "      <td>organic</td>\n",
       "      <td>2018</td>\n",
       "      <td>WestTexNewMexico</td>\n",
       "    </tr>\n",
       "  </tbody>\n",
       "</table>\n",
       "<p>18249 rows × 14 columns</p>\n",
       "</div>"
      ],
      "text/plain": [
       "       Unnamed: 0        Date  ...  year            region\n",
       "0               0  2015-12-27  ...  2015            Albany\n",
       "1               1  2015-12-20  ...  2015            Albany\n",
       "2               2  2015-12-13  ...  2015            Albany\n",
       "3               3  2015-12-06  ...  2015            Albany\n",
       "4               4  2015-11-29  ...  2015            Albany\n",
       "...           ...         ...  ...   ...               ...\n",
       "18244           7  2018-02-04  ...  2018  WestTexNewMexico\n",
       "18245           8  2018-01-28  ...  2018  WestTexNewMexico\n",
       "18246           9  2018-01-21  ...  2018  WestTexNewMexico\n",
       "18247          10  2018-01-14  ...  2018  WestTexNewMexico\n",
       "18248          11  2018-01-07  ...  2018  WestTexNewMexico\n",
       "\n",
       "[18249 rows x 14 columns]"
      ]
     },
     "execution_count": 24,
     "metadata": {
      "tags": []
     },
     "output_type": "execute_result"
    }
   ],
   "source": [
    "avocado_df"
   ]
  },
  {
   "cell_type": "code",
   "execution_count": 27,
   "metadata": {
    "executionInfo": {
     "elapsed": 1876,
     "status": "ok",
     "timestamp": 1608197157363,
     "user": {
      "displayName": "Shahid Ansari",
      "photoUrl": "https://lh3.googleusercontent.com/a-/AOh14GgNI1mPL87f4HLtXTQOdtG3HjBEWRPeVLzwEauZ_oU=s64",
      "userId": "04816463903886786764"
     },
     "user_tz": -330
    },
    "id": "ubBBFssAAzi3"
   },
   "outputs": [],
   "source": [
    "avocado_df_sample = avocado_df[avocado_df['region'] == 'West']"
   ]
  },
  {
   "cell_type": "code",
   "execution_count": 28,
   "metadata": {
    "colab": {
     "base_uri": "https://localhost:8080/",
     "height": 406
    },
    "executionInfo": {
     "elapsed": 1609,
     "status": "ok",
     "timestamp": 1608197159727,
     "user": {
      "displayName": "Shahid Ansari",
      "photoUrl": "https://lh3.googleusercontent.com/a-/AOh14GgNI1mPL87f4HLtXTQOdtG3HjBEWRPeVLzwEauZ_oU=s64",
      "userId": "04816463903886786764"
     },
     "user_tz": -330
    },
    "id": "lRQhglWFBDng",
    "outputId": "56aea61c-10e8-4fa1-eda6-adc60798a242"
   },
   "outputs": [
    {
     "data": {
      "text/html": [
       "<div>\n",
       "<style scoped>\n",
       "    .dataframe tbody tr th:only-of-type {\n",
       "        vertical-align: middle;\n",
       "    }\n",
       "\n",
       "    .dataframe tbody tr th {\n",
       "        vertical-align: top;\n",
       "    }\n",
       "\n",
       "    .dataframe thead th {\n",
       "        text-align: right;\n",
       "    }\n",
       "</style>\n",
       "<table border=\"1\" class=\"dataframe\">\n",
       "  <thead>\n",
       "    <tr style=\"text-align: right;\">\n",
       "      <th></th>\n",
       "      <th>Unnamed: 0</th>\n",
       "      <th>Date</th>\n",
       "      <th>AveragePrice</th>\n",
       "      <th>Total Volume</th>\n",
       "      <th>4046</th>\n",
       "      <th>4225</th>\n",
       "      <th>4770</th>\n",
       "      <th>Total Bags</th>\n",
       "      <th>Small Bags</th>\n",
       "      <th>Large Bags</th>\n",
       "      <th>XLarge Bags</th>\n",
       "      <th>type</th>\n",
       "      <th>year</th>\n",
       "      <th>region</th>\n",
       "    </tr>\n",
       "  </thead>\n",
       "  <tbody>\n",
       "    <tr>\n",
       "      <th>2755</th>\n",
       "      <td>51</td>\n",
       "      <td>2015-01-04</td>\n",
       "      <td>0.89</td>\n",
       "      <td>5794410.58</td>\n",
       "      <td>2275446.87</td>\n",
       "      <td>2582300.65</td>\n",
       "      <td>97024.09</td>\n",
       "      <td>839638.97</td>\n",
       "      <td>688813.01</td>\n",
       "      <td>150819.57</td>\n",
       "      <td>6.39</td>\n",
       "      <td>conventional</td>\n",
       "      <td>2015</td>\n",
       "      <td>West</td>\n",
       "    </tr>\n",
       "    <tr>\n",
       "      <th>11881</th>\n",
       "      <td>51</td>\n",
       "      <td>2015-01-04</td>\n",
       "      <td>1.40</td>\n",
       "      <td>187548.30</td>\n",
       "      <td>70313.71</td>\n",
       "      <td>72942.11</td>\n",
       "      <td>24.30</td>\n",
       "      <td>44268.18</td>\n",
       "      <td>10023.72</td>\n",
       "      <td>34244.46</td>\n",
       "      <td>0.00</td>\n",
       "      <td>organic</td>\n",
       "      <td>2015</td>\n",
       "      <td>West</td>\n",
       "    </tr>\n",
       "    <tr>\n",
       "      <th>2754</th>\n",
       "      <td>50</td>\n",
       "      <td>2015-01-11</td>\n",
       "      <td>0.95</td>\n",
       "      <td>5333097.71</td>\n",
       "      <td>2203111.92</td>\n",
       "      <td>2292761.26</td>\n",
       "      <td>127412.09</td>\n",
       "      <td>709812.44</td>\n",
       "      <td>598705.08</td>\n",
       "      <td>111073.82</td>\n",
       "      <td>33.54</td>\n",
       "      <td>conventional</td>\n",
       "      <td>2015</td>\n",
       "      <td>West</td>\n",
       "    </tr>\n",
       "    <tr>\n",
       "      <th>11880</th>\n",
       "      <td>50</td>\n",
       "      <td>2015-01-11</td>\n",
       "      <td>1.39</td>\n",
       "      <td>223156.55</td>\n",
       "      <td>80139.16</td>\n",
       "      <td>111395.01</td>\n",
       "      <td>63.88</td>\n",
       "      <td>31558.50</td>\n",
       "      <td>9296.76</td>\n",
       "      <td>22261.74</td>\n",
       "      <td>0.00</td>\n",
       "      <td>organic</td>\n",
       "      <td>2015</td>\n",
       "      <td>West</td>\n",
       "    </tr>\n",
       "    <tr>\n",
       "      <th>2753</th>\n",
       "      <td>49</td>\n",
       "      <td>2015-01-18</td>\n",
       "      <td>0.96</td>\n",
       "      <td>5475363.01</td>\n",
       "      <td>2431736.63</td>\n",
       "      <td>2258069.63</td>\n",
       "      <td>76348.13</td>\n",
       "      <td>709208.62</td>\n",
       "      <td>527358.78</td>\n",
       "      <td>181809.88</td>\n",
       "      <td>39.96</td>\n",
       "      <td>conventional</td>\n",
       "      <td>2015</td>\n",
       "      <td>West</td>\n",
       "    </tr>\n",
       "    <tr>\n",
       "      <th>...</th>\n",
       "      <td>...</td>\n",
       "      <td>...</td>\n",
       "      <td>...</td>\n",
       "      <td>...</td>\n",
       "      <td>...</td>\n",
       "      <td>...</td>\n",
       "      <td>...</td>\n",
       "      <td>...</td>\n",
       "      <td>...</td>\n",
       "      <td>...</td>\n",
       "      <td>...</td>\n",
       "      <td>...</td>\n",
       "      <td>...</td>\n",
       "      <td>...</td>\n",
       "    </tr>\n",
       "    <tr>\n",
       "      <th>18227</th>\n",
       "      <td>2</td>\n",
       "      <td>2018-03-11</td>\n",
       "      <td>1.63</td>\n",
       "      <td>264691.87</td>\n",
       "      <td>27566.25</td>\n",
       "      <td>60383.57</td>\n",
       "      <td>276.42</td>\n",
       "      <td>176465.63</td>\n",
       "      <td>107174.93</td>\n",
       "      <td>69290.70</td>\n",
       "      <td>0.00</td>\n",
       "      <td>organic</td>\n",
       "      <td>2018</td>\n",
       "      <td>West</td>\n",
       "    </tr>\n",
       "    <tr>\n",
       "      <th>18226</th>\n",
       "      <td>1</td>\n",
       "      <td>2018-03-18</td>\n",
       "      <td>1.73</td>\n",
       "      <td>210067.47</td>\n",
       "      <td>33437.98</td>\n",
       "      <td>47165.54</td>\n",
       "      <td>110.40</td>\n",
       "      <td>129353.55</td>\n",
       "      <td>73163.12</td>\n",
       "      <td>56020.24</td>\n",
       "      <td>170.19</td>\n",
       "      <td>organic</td>\n",
       "      <td>2018</td>\n",
       "      <td>West</td>\n",
       "    </tr>\n",
       "    <tr>\n",
       "      <th>9103</th>\n",
       "      <td>1</td>\n",
       "      <td>2018-03-18</td>\n",
       "      <td>0.99</td>\n",
       "      <td>7254940.65</td>\n",
       "      <td>2099082.66</td>\n",
       "      <td>1707752.84</td>\n",
       "      <td>115997.93</td>\n",
       "      <td>3332107.22</td>\n",
       "      <td>1333247.05</td>\n",
       "      <td>1982086.02</td>\n",
       "      <td>16774.15</td>\n",
       "      <td>conventional</td>\n",
       "      <td>2018</td>\n",
       "      <td>West</td>\n",
       "    </tr>\n",
       "    <tr>\n",
       "      <th>9102</th>\n",
       "      <td>0</td>\n",
       "      <td>2018-03-25</td>\n",
       "      <td>0.93</td>\n",
       "      <td>7667064.46</td>\n",
       "      <td>2567279.74</td>\n",
       "      <td>1912986.38</td>\n",
       "      <td>118289.91</td>\n",
       "      <td>3068508.43</td>\n",
       "      <td>1309580.19</td>\n",
       "      <td>1745630.06</td>\n",
       "      <td>13298.18</td>\n",
       "      <td>conventional</td>\n",
       "      <td>2018</td>\n",
       "      <td>West</td>\n",
       "    </tr>\n",
       "    <tr>\n",
       "      <th>18225</th>\n",
       "      <td>0</td>\n",
       "      <td>2018-03-25</td>\n",
       "      <td>1.60</td>\n",
       "      <td>271723.08</td>\n",
       "      <td>26996.28</td>\n",
       "      <td>77861.39</td>\n",
       "      <td>117.56</td>\n",
       "      <td>166747.85</td>\n",
       "      <td>87108.00</td>\n",
       "      <td>79495.39</td>\n",
       "      <td>144.46</td>\n",
       "      <td>organic</td>\n",
       "      <td>2018</td>\n",
       "      <td>West</td>\n",
       "    </tr>\n",
       "  </tbody>\n",
       "</table>\n",
       "<p>338 rows × 14 columns</p>\n",
       "</div>"
      ],
      "text/plain": [
       "       Unnamed: 0        Date  AveragePrice  ...          type  year  region\n",
       "2755           51  2015-01-04          0.89  ...  conventional  2015    West\n",
       "11881          51  2015-01-04          1.40  ...       organic  2015    West\n",
       "2754           50  2015-01-11          0.95  ...  conventional  2015    West\n",
       "11880          50  2015-01-11          1.39  ...       organic  2015    West\n",
       "2753           49  2015-01-18          0.96  ...  conventional  2015    West\n",
       "...           ...         ...           ...  ...           ...   ...     ...\n",
       "18227           2  2018-03-11          1.63  ...       organic  2018    West\n",
       "18226           1  2018-03-18          1.73  ...       organic  2018    West\n",
       "9103            1  2018-03-18          0.99  ...  conventional  2018    West\n",
       "9102            0  2018-03-25          0.93  ...  conventional  2018    West\n",
       "18225           0  2018-03-25          1.60  ...       organic  2018    West\n",
       "\n",
       "[338 rows x 14 columns]"
      ]
     },
     "execution_count": 28,
     "metadata": {
      "tags": []
     },
     "output_type": "execute_result"
    }
   ],
   "source": [
    "avocado_df_sample = avocado_df_sample.sort_values('Date')\n",
    "avocado_df_sample"
   ]
  },
  {
   "cell_type": "code",
   "execution_count": 29,
   "metadata": {
    "colab": {
     "base_uri": "https://localhost:8080/",
     "height": 665
    },
    "executionInfo": {
     "elapsed": 4004,
     "status": "ok",
     "timestamp": 1608197294593,
     "user": {
      "displayName": "Shahid Ansari",
      "photoUrl": "https://lh3.googleusercontent.com/a-/AOh14GgNI1mPL87f4HLtXTQOdtG3HjBEWRPeVLzwEauZ_oU=s64",
      "userId": "04816463903886786764"
     },
     "user_tz": -330
    },
    "id": "FtDNDCONBNt_",
    "outputId": "b1e8c6bf-d572-43ce-ebcb-4c7d2eaf4195"
   },
   "outputs": [
    {
     "name": "stderr",
     "output_type": "stream",
     "text": [
      "INFO:matplotlib.category:Using categorical units to plot a list of strings that are all parsable as floats or dates. If these strings should be plotted as numbers, cast to the appropriate data type before plotting.\n",
      "INFO:matplotlib.category:Using categorical units to plot a list of strings that are all parsable as floats or dates. If these strings should be plotted as numbers, cast to the appropriate data type before plotting.\n"
     ]
    },
    {
     "data": {
      "text/plain": [
       "[<matplotlib.lines.Line2D at 0x7fdcd4389f60>]"
      ]
     },
     "execution_count": 29,
     "metadata": {
      "tags": []
     },
     "output_type": "execute_result"
    },
    {
     "data": {
      "image/png": "[encoded data removed]",
      "text/plain": [
       "<Figure size 720x720 with 1 Axes>"
      ]
     },
     "metadata": {
      "needs_background": "light",
      "tags": []
     },
     "output_type": "display_data"
    }
   ],
   "source": [
    "plt.figure(figsize=(10,10))\n",
    "plt.plot(avocado_df_sample['Date'],avocado_df_sample['AveragePrice'])"
   ]
  },
  {
   "cell_type": "code",
   "execution_count": 30,
   "metadata": {
    "colab": {
     "base_uri": "https://localhost:8080/",
     "height": 298
    },
    "executionInfo": {
     "elapsed": 2030,
     "status": "ok",
     "timestamp": 1608197345099,
     "user": {
      "displayName": "Shahid Ansari",
      "photoUrl": "https://lh3.googleusercontent.com/a-/AOh14GgNI1mPL87f4HLtXTQOdtG3HjBEWRPeVLzwEauZ_oU=s64",
      "userId": "04816463903886786764"
     },
     "user_tz": -330
    },
    "id": "R6aESB3QBzkx",
    "outputId": "9e91d857-c5ea-4950-83e7-9a724aed3633"
   },
   "outputs": [
    {
     "data": {
      "text/plain": [
       "<matplotlib.axes._subplots.AxesSubplot at 0x7fdcd278cf98>"
      ]
     },
     "execution_count": 30,
     "metadata": {
      "tags": []
     },
     "output_type": "execute_result"
    },
    {
     "data": {
      "image/png": "[encoded data removed]",
      "text/plain": [
       "<Figure size 432x288 with 1 Axes>"
      ]
     },
     "metadata": {
      "needs_background": "light",
      "tags": []
     },
     "output_type": "display_data"
    }
   ],
   "source": [
    "avocado_df_sample.year.value_counts().plot(kind = 'bar')"
   ]
  },
  {
   "cell_type": "code",
   "execution_count": 31,
   "metadata": {
    "executionInfo": {
     "elapsed": 2392,
     "status": "ok",
     "timestamp": 1608197397421,
     "user": {
      "displayName": "Shahid Ansari",
      "photoUrl": "https://lh3.googleusercontent.com/a-/AOh14GgNI1mPL87f4HLtXTQOdtG3HjBEWRPeVLzwEauZ_oU=s64",
      "userId": "04816463903886786764"
     },
     "user_tz": -330
    },
    "id": "E3A9En0LCAa0"
   },
   "outputs": [],
   "source": [
    "avocado_df_sample_prophet = avocado_df_sample[['Date','AveragePrice']]"
   ]
  },
  {
   "cell_type": "code",
   "execution_count": 32,
   "metadata": {
    "colab": {
     "base_uri": "https://localhost:8080/",
     "height": 406
    },
    "executionInfo": {
     "elapsed": 1276,
     "status": "ok",
     "timestamp": 1608197407180,
     "user": {
      "displayName": "Shahid Ansari",
      "photoUrl": "https://lh3.googleusercontent.com/a-/AOh14GgNI1mPL87f4HLtXTQOdtG3HjBEWRPeVLzwEauZ_oU=s64",
      "userId": "04816463903886786764"
     },
     "user_tz": -330
    },
    "id": "8l436qvuCNGz",
    "outputId": "19d18bf5-b879-4c42-ee64-5924682cd949"
   },
   "outputs": [
    {
     "data": {
      "text/html": [
       "<div>\n",
       "<style scoped>\n",
       "    .dataframe tbody tr th:only-of-type {\n",
       "        vertical-align: middle;\n",
       "    }\n",
       "\n",
       "    .dataframe tbody tr th {\n",
       "        vertical-align: top;\n",
       "    }\n",
       "\n",
       "    .dataframe thead th {\n",
       "        text-align: right;\n",
       "    }\n",
       "</style>\n",
       "<table border=\"1\" class=\"dataframe\">\n",
       "  <thead>\n",
       "    <tr style=\"text-align: right;\">\n",
       "      <th></th>\n",
       "      <th>Date</th>\n",
       "      <th>AveragePrice</th>\n",
       "    </tr>\n",
       "  </thead>\n",
       "  <tbody>\n",
       "    <tr>\n",
       "      <th>2755</th>\n",
       "      <td>2015-01-04</td>\n",
       "      <td>0.89</td>\n",
       "    </tr>\n",
       "    <tr>\n",
       "      <th>11881</th>\n",
       "      <td>2015-01-04</td>\n",
       "      <td>1.40</td>\n",
       "    </tr>\n",
       "    <tr>\n",
       "      <th>2754</th>\n",
       "      <td>2015-01-11</td>\n",
       "      <td>0.95</td>\n",
       "    </tr>\n",
       "    <tr>\n",
       "      <th>11880</th>\n",
       "      <td>2015-01-11</td>\n",
       "      <td>1.39</td>\n",
       "    </tr>\n",
       "    <tr>\n",
       "      <th>2753</th>\n",
       "      <td>2015-01-18</td>\n",
       "      <td>0.96</td>\n",
       "    </tr>\n",
       "    <tr>\n",
       "      <th>...</th>\n",
       "      <td>...</td>\n",
       "      <td>...</td>\n",
       "    </tr>\n",
       "    <tr>\n",
       "      <th>18227</th>\n",
       "      <td>2018-03-11</td>\n",
       "      <td>1.63</td>\n",
       "    </tr>\n",
       "    <tr>\n",
       "      <th>18226</th>\n",
       "      <td>2018-03-18</td>\n",
       "      <td>1.73</td>\n",
       "    </tr>\n",
       "    <tr>\n",
       "      <th>9103</th>\n",
       "      <td>2018-03-18</td>\n",
       "      <td>0.99</td>\n",
       "    </tr>\n",
       "    <tr>\n",
       "      <th>9102</th>\n",
       "      <td>2018-03-25</td>\n",
       "      <td>0.93</td>\n",
       "    </tr>\n",
       "    <tr>\n",
       "      <th>18225</th>\n",
       "      <td>2018-03-25</td>\n",
       "      <td>1.60</td>\n",
       "    </tr>\n",
       "  </tbody>\n",
       "</table>\n",
       "<p>338 rows × 2 columns</p>\n",
       "</div>"
      ],
      "text/plain": [
       "             Date  AveragePrice\n",
       "2755   2015-01-04          0.89\n",
       "11881  2015-01-04          1.40\n",
       "2754   2015-01-11          0.95\n",
       "11880  2015-01-11          1.39\n",
       "2753   2015-01-18          0.96\n",
       "...           ...           ...\n",
       "18227  2018-03-11          1.63\n",
       "18226  2018-03-18          1.73\n",
       "9103   2018-03-18          0.99\n",
       "9102   2018-03-25          0.93\n",
       "18225  2018-03-25          1.60\n",
       "\n",
       "[338 rows x 2 columns]"
      ]
     },
     "execution_count": 32,
     "metadata": {
      "tags": []
     },
     "output_type": "execute_result"
    }
   ],
   "source": [
    "avocado_df_sample_prophet"
   ]
  },
  {
   "cell_type": "code",
   "execution_count": 33,
   "metadata": {
    "colab": {
     "base_uri": "https://localhost:8080/",
     "height": 406
    },
    "executionInfo": {
     "elapsed": 2255,
     "status": "ok",
     "timestamp": 1608197461798,
     "user": {
      "displayName": "Shahid Ansari",
      "photoUrl": "https://lh3.googleusercontent.com/a-/AOh14GgNI1mPL87f4HLtXTQOdtG3HjBEWRPeVLzwEauZ_oU=s64",
      "userId": "04816463903886786764"
     },
     "user_tz": -330
    },
    "id": "CEO_q4DiCPkU",
    "outputId": "abb5a96a-df6d-49df-b141-6f791a93a192"
   },
   "outputs": [
    {
     "data": {
      "text/html": [
       "<div>\n",
       "<style scoped>\n",
       "    .dataframe tbody tr th:only-of-type {\n",
       "        vertical-align: middle;\n",
       "    }\n",
       "\n",
       "    .dataframe tbody tr th {\n",
       "        vertical-align: top;\n",
       "    }\n",
       "\n",
       "    .dataframe thead th {\n",
       "        text-align: right;\n",
       "    }\n",
       "</style>\n",
       "<table border=\"1\" class=\"dataframe\">\n",
       "  <thead>\n",
       "    <tr style=\"text-align: right;\">\n",
       "      <th></th>\n",
       "      <th>ds</th>\n",
       "      <th>y</th>\n",
       "    </tr>\n",
       "  </thead>\n",
       "  <tbody>\n",
       "    <tr>\n",
       "      <th>2755</th>\n",
       "      <td>2015-01-04</td>\n",
       "      <td>0.89</td>\n",
       "    </tr>\n",
       "    <tr>\n",
       "      <th>11881</th>\n",
       "      <td>2015-01-04</td>\n",
       "      <td>1.40</td>\n",
       "    </tr>\n",
       "    <tr>\n",
       "      <th>2754</th>\n",
       "      <td>2015-01-11</td>\n",
       "      <td>0.95</td>\n",
       "    </tr>\n",
       "    <tr>\n",
       "      <th>11880</th>\n",
       "      <td>2015-01-11</td>\n",
       "      <td>1.39</td>\n",
       "    </tr>\n",
       "    <tr>\n",
       "      <th>2753</th>\n",
       "      <td>2015-01-18</td>\n",
       "      <td>0.96</td>\n",
       "    </tr>\n",
       "    <tr>\n",
       "      <th>...</th>\n",
       "      <td>...</td>\n",
       "      <td>...</td>\n",
       "    </tr>\n",
       "    <tr>\n",
       "      <th>18227</th>\n",
       "      <td>2018-03-11</td>\n",
       "      <td>1.63</td>\n",
       "    </tr>\n",
       "    <tr>\n",
       "      <th>18226</th>\n",
       "      <td>2018-03-18</td>\n",
       "      <td>1.73</td>\n",
       "    </tr>\n",
       "    <tr>\n",
       "      <th>9103</th>\n",
       "      <td>2018-03-18</td>\n",
       "      <td>0.99</td>\n",
       "    </tr>\n",
       "    <tr>\n",
       "      <th>9102</th>\n",
       "      <td>2018-03-25</td>\n",
       "      <td>0.93</td>\n",
       "    </tr>\n",
       "    <tr>\n",
       "      <th>18225</th>\n",
       "      <td>2018-03-25</td>\n",
       "      <td>1.60</td>\n",
       "    </tr>\n",
       "  </tbody>\n",
       "</table>\n",
       "<p>338 rows × 2 columns</p>\n",
       "</div>"
      ],
      "text/plain": [
       "               ds     y\n",
       "2755   2015-01-04  0.89\n",
       "11881  2015-01-04  1.40\n",
       "2754   2015-01-11  0.95\n",
       "11880  2015-01-11  1.39\n",
       "2753   2015-01-18  0.96\n",
       "...           ...   ...\n",
       "18227  2018-03-11  1.63\n",
       "18226  2018-03-18  1.73\n",
       "9103   2018-03-18  0.99\n",
       "9102   2018-03-25  0.93\n",
       "18225  2018-03-25  1.60\n",
       "\n",
       "[338 rows x 2 columns]"
      ]
     },
     "execution_count": 33,
     "metadata": {
      "tags": []
     },
     "output_type": "execute_result"
    }
   ],
   "source": [
    "avocado_df_sample_prophet = avocado_df_sample_prophet.rename(columns = {'Date':'ds','AveragePrice':'y'})\n",
    "avocado_df_sample_prophet"
   ]
  },
  {
   "cell_type": "code",
   "execution_count": 35,
   "metadata": {
    "colab": {
     "base_uri": "https://localhost:8080/"
    },
    "executionInfo": {
     "elapsed": 1694,
     "status": "ok",
     "timestamp": 1608197511217,
     "user": {
      "displayName": "Shahid Ansari",
      "photoUrl": "https://lh3.googleusercontent.com/a-/AOh14GgNI1mPL87f4HLtXTQOdtG3HjBEWRPeVLzwEauZ_oU=s64",
      "userId": "04816463903886786764"
     },
     "user_tz": -330
    },
    "id": "Bs6Ie465Cc2F",
    "outputId": "49c49323-08a6-4577-91c3-d9ce22536bf3"
   },
   "outputs": [
    {
     "name": "stderr",
     "output_type": "stream",
     "text": [
      "INFO:fbprophet:Disabling weekly seasonality. Run prophet with weekly_seasonality=True to override this.\n",
      "INFO:fbprophet:Disabling daily seasonality. Run prophet with daily_seasonality=True to override this.\n"
     ]
    },
    {
     "data": {
      "text/plain": [
       "<fbprophet.forecaster.Prophet at 0x7fdcd26f42e8>"
      ]
     },
     "execution_count": 35,
     "metadata": {
      "tags": []
     },
     "output_type": "execute_result"
    }
   ],
   "source": [
    "m_1 = Prophet()\n",
    "m_1.fit(avocado_df_sample_prophet)"
   ]
  },
  {
   "cell_type": "code",
   "execution_count": 36,
   "metadata": {
    "executionInfo": {
     "elapsed": 5722,
     "status": "ok",
     "timestamp": 1608197571159,
     "user": {
      "displayName": "Shahid Ansari",
      "photoUrl": "https://lh3.googleusercontent.com/a-/AOh14GgNI1mPL87f4HLtXTQOdtG3HjBEWRPeVLzwEauZ_oU=s64",
      "userId": "04816463903886786764"
     },
     "user_tz": -330
    },
    "id": "Gi8y_XVWChgh"
   },
   "outputs": [],
   "source": [
    "future = m_1.make_future_dataframe(periods = 365)\n",
    "forecast = m_1.predict(future)"
   ]
  },
  {
   "cell_type": "code",
   "execution_count": 37,
   "metadata": {
    "colab": {
     "base_uri": "https://localhost:8080/",
     "height": 593
    },
    "executionInfo": {
     "elapsed": 3575,
     "status": "ok",
     "timestamp": 1608197581254,
     "user": {
      "displayName": "Shahid Ansari",
      "photoUrl": "https://lh3.googleusercontent.com/a-/AOh14GgNI1mPL87f4HLtXTQOdtG3HjBEWRPeVLzwEauZ_oU=s64",
      "userId": "04816463903886786764"
     },
     "user_tz": -330
    },
    "id": "NtBrUOixC2Q6",
    "outputId": "a84688db-97d3-4b3c-b85d-8163ca1c6098"
   },
   "outputs": [
    {
     "data": {
      "text/html": [
       "<div>\n",
       "<style scoped>\n",
       "    .dataframe tbody tr th:only-of-type {\n",
       "        vertical-align: middle;\n",
       "    }\n",
       "\n",
       "    .dataframe tbody tr th {\n",
       "        vertical-align: top;\n",
       "    }\n",
       "\n",
       "    .dataframe thead th {\n",
       "        text-align: right;\n",
       "    }\n",
       "</style>\n",
       "<table border=\"1\" class=\"dataframe\">\n",
       "  <thead>\n",
       "    <tr style=\"text-align: right;\">\n",
       "      <th></th>\n",
       "      <th>ds</th>\n",
       "      <th>trend</th>\n",
       "      <th>yhat_lower</th>\n",
       "      <th>yhat_upper</th>\n",
       "      <th>trend_lower</th>\n",
       "      <th>trend_upper</th>\n",
       "      <th>additive_terms</th>\n",
       "      <th>additive_terms_lower</th>\n",
       "      <th>additive_terms_upper</th>\n",
       "      <th>yearly</th>\n",
       "      <th>yearly_lower</th>\n",
       "      <th>yearly_upper</th>\n",
       "      <th>multiplicative_terms</th>\n",
       "      <th>multiplicative_terms_lower</th>\n",
       "      <th>multiplicative_terms_upper</th>\n",
       "      <th>yhat</th>\n",
       "    </tr>\n",
       "  </thead>\n",
       "  <tbody>\n",
       "    <tr>\n",
       "      <th>0</th>\n",
       "      <td>2015-01-04</td>\n",
       "      <td>1.244744</td>\n",
       "      <td>0.616838</td>\n",
       "      <td>1.487472</td>\n",
       "      <td>1.244744</td>\n",
       "      <td>1.244744</td>\n",
       "      <td>-0.184897</td>\n",
       "      <td>-0.184897</td>\n",
       "      <td>-0.184897</td>\n",
       "      <td>-0.184897</td>\n",
       "      <td>-0.184897</td>\n",
       "      <td>-0.184897</td>\n",
       "      <td>0.0</td>\n",
       "      <td>0.0</td>\n",
       "      <td>0.0</td>\n",
       "      <td>1.059847</td>\n",
       "    </tr>\n",
       "    <tr>\n",
       "      <th>1</th>\n",
       "      <td>2015-01-11</td>\n",
       "      <td>1.243901</td>\n",
       "      <td>0.654862</td>\n",
       "      <td>1.529698</td>\n",
       "      <td>1.243901</td>\n",
       "      <td>1.243901</td>\n",
       "      <td>-0.165306</td>\n",
       "      <td>-0.165306</td>\n",
       "      <td>-0.165306</td>\n",
       "      <td>-0.165306</td>\n",
       "      <td>-0.165306</td>\n",
       "      <td>-0.165306</td>\n",
       "      <td>0.0</td>\n",
       "      <td>0.0</td>\n",
       "      <td>0.0</td>\n",
       "      <td>1.078595</td>\n",
       "    </tr>\n",
       "    <tr>\n",
       "      <th>2</th>\n",
       "      <td>2015-01-18</td>\n",
       "      <td>1.243058</td>\n",
       "      <td>0.684241</td>\n",
       "      <td>1.500202</td>\n",
       "      <td>1.243058</td>\n",
       "      <td>1.243058</td>\n",
       "      <td>-0.156119</td>\n",
       "      <td>-0.156119</td>\n",
       "      <td>-0.156119</td>\n",
       "      <td>-0.156119</td>\n",
       "      <td>-0.156119</td>\n",
       "      <td>-0.156119</td>\n",
       "      <td>0.0</td>\n",
       "      <td>0.0</td>\n",
       "      <td>0.0</td>\n",
       "      <td>1.086939</td>\n",
       "    </tr>\n",
       "    <tr>\n",
       "      <th>3</th>\n",
       "      <td>2015-01-25</td>\n",
       "      <td>1.242215</td>\n",
       "      <td>0.644141</td>\n",
       "      <td>1.539017</td>\n",
       "      <td>1.242215</td>\n",
       "      <td>1.242215</td>\n",
       "      <td>-0.168806</td>\n",
       "      <td>-0.168806</td>\n",
       "      <td>-0.168806</td>\n",
       "      <td>-0.168806</td>\n",
       "      <td>-0.168806</td>\n",
       "      <td>-0.168806</td>\n",
       "      <td>0.0</td>\n",
       "      <td>0.0</td>\n",
       "      <td>0.0</td>\n",
       "      <td>1.073409</td>\n",
       "    </tr>\n",
       "    <tr>\n",
       "      <th>4</th>\n",
       "      <td>2015-02-01</td>\n",
       "      <td>1.241372</td>\n",
       "      <td>0.625445</td>\n",
       "      <td>1.497946</td>\n",
       "      <td>1.241372</td>\n",
       "      <td>1.241372</td>\n",
       "      <td>-0.191200</td>\n",
       "      <td>-0.191200</td>\n",
       "      <td>-0.191200</td>\n",
       "      <td>-0.191200</td>\n",
       "      <td>-0.191200</td>\n",
       "      <td>-0.191200</td>\n",
       "      <td>0.0</td>\n",
       "      <td>0.0</td>\n",
       "      <td>0.0</td>\n",
       "      <td>1.050172</td>\n",
       "    </tr>\n",
       "    <tr>\n",
       "      <th>...</th>\n",
       "      <td>...</td>\n",
       "      <td>...</td>\n",
       "      <td>...</td>\n",
       "      <td>...</td>\n",
       "      <td>...</td>\n",
       "      <td>...</td>\n",
       "      <td>...</td>\n",
       "      <td>...</td>\n",
       "      <td>...</td>\n",
       "      <td>...</td>\n",
       "      <td>...</td>\n",
       "      <td>...</td>\n",
       "      <td>...</td>\n",
       "      <td>...</td>\n",
       "      <td>...</td>\n",
       "      <td>...</td>\n",
       "    </tr>\n",
       "    <tr>\n",
       "      <th>529</th>\n",
       "      <td>2019-03-21</td>\n",
       "      <td>1.735704</td>\n",
       "      <td>1.123115</td>\n",
       "      <td>1.972451</td>\n",
       "      <td>1.706986</td>\n",
       "      <td>1.762779</td>\n",
       "      <td>-0.204399</td>\n",
       "      <td>-0.204399</td>\n",
       "      <td>-0.204399</td>\n",
       "      <td>-0.204399</td>\n",
       "      <td>-0.204399</td>\n",
       "      <td>-0.204399</td>\n",
       "      <td>0.0</td>\n",
       "      <td>0.0</td>\n",
       "      <td>0.0</td>\n",
       "      <td>1.531304</td>\n",
       "    </tr>\n",
       "    <tr>\n",
       "      <th>530</th>\n",
       "      <td>2019-03-22</td>\n",
       "      <td>1.736282</td>\n",
       "      <td>1.110317</td>\n",
       "      <td>1.940607</td>\n",
       "      <td>1.707351</td>\n",
       "      <td>1.763451</td>\n",
       "      <td>-0.199313</td>\n",
       "      <td>-0.199313</td>\n",
       "      <td>-0.199313</td>\n",
       "      <td>-0.199313</td>\n",
       "      <td>-0.199313</td>\n",
       "      <td>-0.199313</td>\n",
       "      <td>0.0</td>\n",
       "      <td>0.0</td>\n",
       "      <td>0.0</td>\n",
       "      <td>1.536968</td>\n",
       "    </tr>\n",
       "    <tr>\n",
       "      <th>531</th>\n",
       "      <td>2019-03-23</td>\n",
       "      <td>1.736860</td>\n",
       "      <td>1.076168</td>\n",
       "      <td>1.933275</td>\n",
       "      <td>1.707753</td>\n",
       "      <td>1.764142</td>\n",
       "      <td>-0.193661</td>\n",
       "      <td>-0.193661</td>\n",
       "      <td>-0.193661</td>\n",
       "      <td>-0.193661</td>\n",
       "      <td>-0.193661</td>\n",
       "      <td>-0.193661</td>\n",
       "      <td>0.0</td>\n",
       "      <td>0.0</td>\n",
       "      <td>0.0</td>\n",
       "      <td>1.543199</td>\n",
       "    </tr>\n",
       "    <tr>\n",
       "      <th>532</th>\n",
       "      <td>2019-03-24</td>\n",
       "      <td>1.737438</td>\n",
       "      <td>1.138384</td>\n",
       "      <td>1.985383</td>\n",
       "      <td>1.708158</td>\n",
       "      <td>1.764856</td>\n",
       "      <td>-0.187548</td>\n",
       "      <td>-0.187548</td>\n",
       "      <td>-0.187548</td>\n",
       "      <td>-0.187548</td>\n",
       "      <td>-0.187548</td>\n",
       "      <td>-0.187548</td>\n",
       "      <td>0.0</td>\n",
       "      <td>0.0</td>\n",
       "      <td>0.0</td>\n",
       "      <td>1.549890</td>\n",
       "    </tr>\n",
       "    <tr>\n",
       "      <th>533</th>\n",
       "      <td>2019-03-25</td>\n",
       "      <td>1.738016</td>\n",
       "      <td>1.122470</td>\n",
       "      <td>1.982841</td>\n",
       "      <td>1.708572</td>\n",
       "      <td>1.765530</td>\n",
       "      <td>-0.181091</td>\n",
       "      <td>-0.181091</td>\n",
       "      <td>-0.181091</td>\n",
       "      <td>-0.181091</td>\n",
       "      <td>-0.181091</td>\n",
       "      <td>-0.181091</td>\n",
       "      <td>0.0</td>\n",
       "      <td>0.0</td>\n",
       "      <td>0.0</td>\n",
       "      <td>1.556925</td>\n",
       "    </tr>\n",
       "  </tbody>\n",
       "</table>\n",
       "<p>534 rows × 16 columns</p>\n",
       "</div>"
      ],
      "text/plain": [
       "            ds     trend  ...  multiplicative_terms_upper      yhat\n",
       "0   2015-01-04  1.244744  ...                         0.0  1.059847\n",
       "1   2015-01-11  1.243901  ...                         0.0  1.078595\n",
       "2   2015-01-18  1.243058  ...                         0.0  1.086939\n",
       "3   2015-01-25  1.242215  ...                         0.0  1.073409\n",
       "4   2015-02-01  1.241372  ...                         0.0  1.050172\n",
       "..         ...       ...  ...                         ...       ...\n",
       "529 2019-03-21  1.735704  ...                         0.0  1.531304\n",
       "530 2019-03-22  1.736282  ...                         0.0  1.536968\n",
       "531 2019-03-23  1.736860  ...                         0.0  1.543199\n",
       "532 2019-03-24  1.737438  ...                         0.0  1.549890\n",
       "533 2019-03-25  1.738016  ...                         0.0  1.556925\n",
       "\n",
       "[534 rows x 16 columns]"
      ]
     },
     "execution_count": 37,
     "metadata": {
      "tags": []
     },
     "output_type": "execute_result"
    }
   ],
   "source": [
    "forecast"
   ]
  },
  {
   "cell_type": "code",
   "execution_count": 38,
   "metadata": {
    "colab": {
     "base_uri": "https://localhost:8080/",
     "height": 441
    },
    "executionInfo": {
     "elapsed": 3387,
     "status": "ok",
     "timestamp": 1608197641460,
     "user": {
      "displayName": "Shahid Ansari",
      "photoUrl": "https://lh3.googleusercontent.com/a-/AOh14GgNI1mPL87f4HLtXTQOdtG3HjBEWRPeVLzwEauZ_oU=s64",
      "userId": "04816463903886786764"
     },
     "user_tz": -330
    },
    "id": "SXt76IxDC5l6",
    "outputId": "be1154bd-ec6c-4464-c2c2-a62fe9853e8f"
   },
   "outputs": [
    {
     "data": {
      "image/png": "[encoded data removed]",
      "text/plain": [
       "<Figure size 720x432 with 1 Axes>"
      ]
     },
     "metadata": {
      "tags": []
     },
     "output_type": "display_data"
    }
   ],
   "source": [
    "figure = m_1.plot(forecast,xlabel = 'Years',ylabel = 'Average Price')"
   ]
  },
  {
   "cell_type": "code",
   "execution_count": 39,
   "metadata": {
    "colab": {
     "base_uri": "https://localhost:8080/",
     "height": 441
    },
    "executionInfo": {
     "elapsed": 2915,
     "status": "ok",
     "timestamp": 1608197684655,
     "user": {
      "displayName": "Shahid Ansari",
      "photoUrl": "https://lh3.googleusercontent.com/a-/AOh14GgNI1mPL87f4HLtXTQOdtG3HjBEWRPeVLzwEauZ_oU=s64",
      "userId": "04816463903886786764"
     },
     "user_tz": -330
    },
    "id": "kTjkCdKuDIbn",
    "outputId": "897fdcba-196f-448b-8f60-28e8bb5be37c"
   },
   "outputs": [
    {
     "data": {
      "image/png": "[encoded data removed]",
      "text/plain": [
       "<Figure size 648x432 with 2 Axes>"
      ]
     },
     "metadata": {
      "tags": []
     },
     "output_type": "display_data"
    }
   ],
   "source": [
    "figure = m_1.plot_components(forecast)"
   ]
  },
  {
   "cell_type": "code",
   "execution_count": null,
   "metadata": {
    "id": "uu1cAMh5DTBO"
   },
   "outputs": [],
   "source": []
  }
 ],
 "metadata": {
  "colab": {
   "authorship_tag": "ABX9TyN6nmtWubVWdIUQeShmF0K8",
   "collapsed_sections": [],
   "mount_file_id": "1iBthNrychd54Y-SAd8MjE2V2gwUHwJ6G",
   "name": "Avocado Price Prediction.ipynb",
   "provenance": []
  },
  "kernelspec": {
   "display_name": "Python 3",
   "language": "python",
   "name": "python3"
  },
  "language_info": {
   "codemirror_mode": {
    "name": "ipython",
    "version": 3
   },
   "file_extension": ".py",
   "mimetype": "text/x-python",
   "name": "python",
   "nbconvert_exporter": "python",
   "pygments_lexer": "ipython3",
   "version": "3.7.7"
  }
 },
 "nbformat": 4,
 "nbformat_minor": 1
}
